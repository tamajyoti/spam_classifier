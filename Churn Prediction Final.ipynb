{
 "cells": [
  {
   "cell_type": "markdown",
   "metadata": {},
   "source": [
    "## Churn prediction problem\n",
    "\n",
    "The following document contains the step by step analysis and prediction of churn probability for users for the upcoming marketing campaign for churn prediction. The document contains the following broad areas \n",
    "\n",
    "1. ** Getting the data from the database **\n",
    "2. ** Analysing the data to create a labelled data set **\n",
    "3. ** Exploratory analysis of the data to understand features and their importance **\n",
    "4. ** Training multiple models and then using the best one to predict churn probability based on model performance **\n",
    "5. ** Using the model to predict churn for active users of Q4-2016 **\n",
    "6. ** Saving the final prediction and some business inputs **\n",
    "7. ** Storing the model as pickles and reloading them to do prediction independent of the other analysis **"
   ]
  },
  {
   "cell_type": "code",
   "execution_count": 412,
   "metadata": {},
   "outputs": [],
   "source": [
    "## Initialize the libraries\n",
    "import psycopg2\n",
    "import pandas as pd\n",
    "import numpy as np\n",
    "import matplotlib\n",
    "import matplotlib.pyplot as plt\n",
    "import seaborn as sns\n",
    "from sklearn.cross_validation import train_test_split\n",
    "from sklearn.metrics import roc_curve, auc, confusion_matrix, classification_report,accuracy_score\n",
    "from sklearn.linear_model import LogisticRegression\n",
    "from sklearn.grid_search import GridSearchCV\n",
    "from sklearn.tree import DecisionTreeClassifier\n",
    "from sklearn.neighbors import KNeighborsClassifier\n",
    "from sklearn.naive_bayes import GaussianNB\n",
    "from sklearn.svm import SVC\n",
    "from sklearn.model_selection import KFold\n",
    "from sklearn.ensemble import GradientBoostingClassifier, RandomForestClassifier\n",
    "from sklearn import preprocessing, metrics\n",
    "from xgboost import XGBClassifier\n",
    "import warnings\n",
    "warnings.filterwarnings('ignore')\n",
    "%matplotlib inline \n",
    "pd.set_option('display.max_rows', 500)\n",
    "pd.set_option('display.max_columns', 500)\n",
    "pd.set_option('display.width', 1000)"
   ]
  },
  {
   "cell_type": "code",
   "execution_count": 413,
   "metadata": {},
   "outputs": [],
   "source": [
    "# Connection to the database\n",
    "cnxn = psycopg2.connect(dbname = 'gocardless',host = 'localhost', port = '5432', user = 'candidate',password ='3TqcrjTe0x1ljehu')\n",
    "crsr = cnxn.cursor()\n",
    "\n",
    "# Extract all the data in Creditors,Mandates,Payments tables\n",
    "\n",
    "\n",
    "main_sql_distinct='''select * from Creditors'''\n",
    "\n",
    "crsr.execute(main_sql_distinct)\n",
    "df_creditors = pd.DataFrame(crsr.fetchall())\n",
    "colnames = list(map(lambda x: x[0], crsr.description))\n",
    "df_creditors.columns=colnames\n",
    "\n",
    "main_sql_distinct='''select * from Mandates'''\n",
    "\n",
    "crsr.execute(main_sql_distinct)\n",
    "df_mandates = pd.DataFrame(crsr.fetchall())\n",
    "colnames = list(map(lambda x: x[0], crsr.description))\n",
    "df_mandates.columns=colnames\n",
    "\n",
    "main_sql_distinct='''select * from Payments'''\n",
    "\n",
    "crsr.execute(main_sql_distinct)\n",
    "df_payments = pd.DataFrame(crsr.fetchall())\n",
    "colnames = list(map(lambda x: x[0], crsr.description))\n",
    "df_payments.columns=colnames"
   ]
  },
  {
   "cell_type": "code",
   "execution_count": 414,
   "metadata": {},
   "outputs": [
    {
     "name": "stdout",
     "output_type": "stream",
     "text": [
      "                 Total    Percent\n",
      "country_code       845  11.456074\n",
      "merchant_type       65   0.881236\n",
      "refunds_enabled      0   0.000000\n",
      "has_logo             0   0.000000\n",
      "created_at           0   0.000000\n",
      "original_id          0   0.000000\n",
      "id                   0   0.000000\n",
      "index                0   0.000000\n",
      "                           Total  Percent\n",
      "is_business_customer_type      0      0.0\n",
      "payments_require_approval      0      0.0\n",
      "scheme                         0      0.0\n",
      "creditor_id                    0      0.0\n",
      "created_at                     0      0.0\n",
      "id                             0      0.0\n",
      "index                          0      0.0\n",
      "                 Total  Percent\n",
      "has_reference        0      0.0\n",
      "has_description      0      0.0\n",
      "source               0      0.0\n",
      "amount_gbp           0      0.0\n",
      "creditor_id          0      0.0\n",
      "mandate_id           0      0.0\n",
      "created_at           0      0.0\n",
      "id                   0      0.0\n",
      "index                0      0.0\n"
     ]
    }
   ],
   "source": [
    "## Some basic sanity checks for the 3 data frame \n",
    "def nulldata(dataframe):\n",
    "    total = dataframe.isnull().sum().sort_values(ascending = False)\n",
    "    percent = (dataframe.isnull().sum()/dataframe.isnull().count()*100).sort_values(ascending = False)\n",
    "    df_null=pd.concat([total, percent], axis=1, keys=['Total', 'Percent'])\n",
    "    return(df_null)\n",
    "\n",
    "print(nulldata(df_creditors))\n",
    "print(nulldata(df_mandates))\n",
    "print(nulldata(df_payments))"
   ]
  },
  {
   "cell_type": "markdown",
   "metadata": {},
   "source": [
    "We could see the data is fairly populated with only country code and merchant type having few null values\n",
    "Hence we proceed towards some exploratory analysis of the data"
   ]
  },
  {
   "cell_type": "code",
   "execution_count": 415,
   "metadata": {},
   "outputs": [
    {
     "name": "stdout",
     "output_type": "stream",
     "text": [
      "Total no of creditors 7376\n",
      "Total no of creditors with mandates 6755\n",
      "Total no of creditors with atleast one transaction last year 6353\n"
     ]
    }
   ],
   "source": [
    "## Perform few basic exploratory checks\n",
    "\n",
    "print('Total no of creditors '+str(len(df_creditors.id.unique())))\n",
    "print('Total no of creditors with mandates '+str(len(df_mandates.creditor_id.unique())))\n",
    "print('Total no of creditors with atleast one transaction last year '+str(len(df_payments.creditor_id.unique())))\n"
   ]
  },
  {
   "cell_type": "markdown",
   "metadata": {},
   "source": [
    "We can see that of the 7376 users 6353 users were active last year and the rest 1023 haven't done any transactions. \n",
    "Based on the problem statement we also know that we need to focus on users who were active in 2016Q4. \n",
    "Hence we scale the probability of churn to the users who were active atleast in one of the months of 2016Q4\n",
    "\n",
    "Steps to solve the problem:\n",
    "1. First we find out the number of users active in 2016Q4. We consider them as users who haven't churned after 9 months in product\n",
    "2. Users with no activity in month 10,11 or 12 are considered as churned users \n",
    "3. We identify the features of the creditors for the entire creditors data set"
   ]
  },
  {
   "cell_type": "code",
   "execution_count": 416,
   "metadata": {},
   "outputs": [
    {
     "name": "stdout",
     "output_type": "stream",
     "text": [
      "Total no of users who were active on 2016Q4 are 4268\n"
     ]
    }
   ],
   "source": [
    "df_payments['month']=df_payments['created_at'].apply(lambda row:row.month)\n",
    "user_active_q4=df_payments[df_payments.month>=10].creditor_id.unique()\n",
    "print('Total no of users who were active on 2016Q4 are '+str(len(user_active_q4)))"
   ]
  },
  {
   "cell_type": "code",
   "execution_count": 417,
   "metadata": {},
   "outputs": [
    {
     "data": {
      "text/html": [
       "<div>\n",
       "<style scoped>\n",
       "    .dataframe tbody tr th:only-of-type {\n",
       "        vertical-align: middle;\n",
       "    }\n",
       "\n",
       "    .dataframe tbody tr th {\n",
       "        vertical-align: top;\n",
       "    }\n",
       "\n",
       "    .dataframe thead th {\n",
       "        text-align: right;\n",
       "    }\n",
       "</style>\n",
       "<table border=\"1\" class=\"dataframe\">\n",
       "  <thead>\n",
       "    <tr style=\"text-align: right;\">\n",
       "      <th></th>\n",
       "      <th>index</th>\n",
       "      <th>id</th>\n",
       "      <th>original_id</th>\n",
       "      <th>created_at</th>\n",
       "      <th>has_logo</th>\n",
       "      <th>country_code</th>\n",
       "      <th>merchant_type</th>\n",
       "      <th>refunds_enabled</th>\n",
       "      <th>creditor_id_x</th>\n",
       "      <th>month_x</th>\n",
       "      <th>creditor_id_y</th>\n",
       "      <th>month_y</th>\n",
       "    </tr>\n",
       "  </thead>\n",
       "  <tbody>\n",
       "    <tr>\n",
       "      <th>0</th>\n",
       "      <td>0</td>\n",
       "      <td>e86212e4bc9634af</td>\n",
       "      <td>CR00001KBJ97DN</td>\n",
       "      <td>2012-10-10 17:28:18.000000</td>\n",
       "      <td>False</td>\n",
       "      <td>GB</td>\n",
       "      <td>business</td>\n",
       "      <td>False</td>\n",
       "      <td>e86212e4bc9634af</td>\n",
       "      <td>12.0</td>\n",
       "      <td>e86212e4bc9634af</td>\n",
       "      <td>1.0</td>\n",
       "    </tr>\n",
       "    <tr>\n",
       "      <th>1</th>\n",
       "      <td>1</td>\n",
       "      <td>6d6068ca26ce1e22</td>\n",
       "      <td>CR00003KVHNF38</td>\n",
       "      <td>2015-08-10 11:15:35.850315</td>\n",
       "      <td>True</td>\n",
       "      <td>GB</td>\n",
       "      <td>business</td>\n",
       "      <td>False</td>\n",
       "      <td>6d6068ca26ce1e22</td>\n",
       "      <td>12.0</td>\n",
       "      <td>6d6068ca26ce1e22</td>\n",
       "      <td>1.0</td>\n",
       "    </tr>\n",
       "    <tr>\n",
       "      <th>2</th>\n",
       "      <td>2</td>\n",
       "      <td>f6410ee29a280622</td>\n",
       "      <td>CR00003SM66ZXX</td>\n",
       "      <td>2015-10-19 10:28:57.401961</td>\n",
       "      <td>True</td>\n",
       "      <td>GB</td>\n",
       "      <td>business</td>\n",
       "      <td>False</td>\n",
       "      <td>f6410ee29a280622</td>\n",
       "      <td>12.0</td>\n",
       "      <td>f6410ee29a280622</td>\n",
       "      <td>1.0</td>\n",
       "    </tr>\n",
       "    <tr>\n",
       "      <th>3</th>\n",
       "      <td>3</td>\n",
       "      <td>71df1a1523e4cc85</td>\n",
       "      <td>CR00003SNDMQ4G</td>\n",
       "      <td>2015-10-19 14:19:25.106170</td>\n",
       "      <td>False</td>\n",
       "      <td>GB</td>\n",
       "      <td>individual</td>\n",
       "      <td>False</td>\n",
       "      <td>71df1a1523e4cc85</td>\n",
       "      <td>11.0</td>\n",
       "      <td>71df1a1523e4cc85</td>\n",
       "      <td>1.0</td>\n",
       "    </tr>\n",
       "    <tr>\n",
       "      <th>4</th>\n",
       "      <td>4</td>\n",
       "      <td>e20d37e020a2684f</td>\n",
       "      <td>CR000047GZPHBZ</td>\n",
       "      <td>2016-03-19 13:44:53.916311</td>\n",
       "      <td>False</td>\n",
       "      <td>GB</td>\n",
       "      <td>business</td>\n",
       "      <td>True</td>\n",
       "      <td>e20d37e020a2684f</td>\n",
       "      <td>12.0</td>\n",
       "      <td>e20d37e020a2684f</td>\n",
       "      <td>8.0</td>\n",
       "    </tr>\n",
       "  </tbody>\n",
       "</table>\n",
       "</div>"
      ],
      "text/plain": [
       "   index                id     original_id                 created_at  has_logo country_code merchant_type  refunds_enabled     creditor_id_x  month_x     creditor_id_y  month_y\n",
       "0      0  e86212e4bc9634af  CR00001KBJ97DN 2012-10-10 17:28:18.000000     False           GB      business            False  e86212e4bc9634af     12.0  e86212e4bc9634af      1.0\n",
       "1      1  6d6068ca26ce1e22  CR00003KVHNF38 2015-08-10 11:15:35.850315      True           GB      business            False  6d6068ca26ce1e22     12.0  6d6068ca26ce1e22      1.0\n",
       "2      2  f6410ee29a280622  CR00003SM66ZXX 2015-10-19 10:28:57.401961      True           GB      business            False  f6410ee29a280622     12.0  f6410ee29a280622      1.0\n",
       "3      3  71df1a1523e4cc85  CR00003SNDMQ4G 2015-10-19 14:19:25.106170     False           GB    individual            False  71df1a1523e4cc85     11.0  71df1a1523e4cc85      1.0\n",
       "4      4  e20d37e020a2684f  CR000047GZPHBZ 2016-03-19 13:44:53.916311     False           GB      business             True  e20d37e020a2684f     12.0  e20d37e020a2684f      8.0"
      ]
     },
     "execution_count": 417,
     "metadata": {},
     "output_type": "execute_result"
    }
   ],
   "source": [
    "## Creating labels for the creditors data set\n",
    "df_payments_max=df_payments.groupby(['creditor_id'])['month'].max().reset_index()\n",
    "df_payments_min=df_payments.groupby(['creditor_id'])['month'].min().reset_index()\n",
    "df_creditors=pd.merge(df_creditors,df_payments_max,how='left',left_on='id',right_on='creditor_id')\n",
    "df_creditors=pd.merge(df_creditors,df_payments_min,how='left',left_on='id',right_on='creditor_id')\n",
    "df_creditors.head()"
   ]
  },
  {
   "cell_type": "code",
   "execution_count": 418,
   "metadata": {},
   "outputs": [
    {
     "name": "stdout",
     "output_type": "stream",
     "text": [
      "The number of users who were in the system before Oct 2016 are 6465\n"
     ]
    }
   ],
   "source": [
    "## We consider creditors who were in the system before Oct 2016 and survived after Oct 2016 as non churners\n",
    "## And creditors who were in system before Oct 2016 and not after Oct 2016 as churners\n",
    "df_model_data=df_creditors[~(df_creditors.month_y>=10)]\n",
    "print('The number of users who were in the system before Oct 2016 are '+str(len(df_model_data)))\n",
    "\n",
    "## Now we create labels on the model data with users active after OCT 2016 as non churners and vice versa\n",
    "df_model_data['label']=df_model_data.apply(lambda row:1 if row.month_x>=10 else 0,axis=1)\n",
    "df_model_data['age']=df_model_data.apply(lambda row:(datetime.datetime.strptime('2016-09-30 00:00:00','%Y-%m-%d %H:%M:%S')-row.created_at).days,axis=1)                                      \n",
    "\n"
   ]
  },
  {
   "cell_type": "code",
   "execution_count": 419,
   "metadata": {},
   "outputs": [
    {
     "data": {
      "image/png": "[encoded data removed]",
      "text/plain": [
       "<matplotlib.figure.Figure at 0x1a1fe4a518>"
      ]
     },
     "metadata": {},
     "output_type": "display_data"
    },
    {
     "name": "stdout",
     "output_type": "stream",
     "text": [
      "1    3357\n",
      "0    3108\n",
      "Name: label, dtype: int64\n"
     ]
    }
   ],
   "source": [
    "## We check for any class imbalance in the labelled data set\n",
    "## Also we check if country code also have an impact on churn\n",
    "temp = df_model_data[\"label\"].value_counts()\n",
    "df = pd.DataFrame({'label': temp.index,'values': temp.values})\n",
    "plt.figure(figsize = (6,6))\n",
    "plt.title('Distribution of active users of Q4 by churn label')\n",
    "sns.set_color_codes(\"pastel\")\n",
    "sns.barplot(x = 'label', y=\"values\", data=df)\n",
    "locs, labels = plt.xticks()\n",
    "plt.show()\n",
    "print(temp)"
   ]
  },
  {
   "cell_type": "markdown",
   "metadata": {},
   "source": [
    "As we can see that the churn and non churn creditors are fairly distributed and hence we need not worry about class imbalance in the dataset"
   ]
  },
  {
   "cell_type": "code",
   "execution_count": 420,
   "metadata": {},
   "outputs": [
    {
     "data": {
      "text/html": [
       "<div>\n",
       "<style scoped>\n",
       "    .dataframe tbody tr th:only-of-type {\n",
       "        vertical-align: middle;\n",
       "    }\n",
       "\n",
       "    .dataframe tbody tr th {\n",
       "        vertical-align: top;\n",
       "    }\n",
       "\n",
       "    .dataframe thead th {\n",
       "        text-align: right;\n",
       "    }\n",
       "</style>\n",
       "<table border=\"1\" class=\"dataframe\">\n",
       "  <thead>\n",
       "    <tr style=\"text-align: right;\">\n",
       "      <th>merchant_type</th>\n",
       "      <th>business</th>\n",
       "      <th>charity</th>\n",
       "      <th>individual</th>\n",
       "      <th>All</th>\n",
       "    </tr>\n",
       "    <tr>\n",
       "      <th>label</th>\n",
       "      <th></th>\n",
       "      <th></th>\n",
       "      <th></th>\n",
       "      <th></th>\n",
       "    </tr>\n",
       "  </thead>\n",
       "  <tbody>\n",
       "    <tr>\n",
       "      <th>Churned</th>\n",
       "      <td>0.425931</td>\n",
       "      <td>0.448852</td>\n",
       "      <td>0.594298</td>\n",
       "      <td>0.47729</td>\n",
       "    </tr>\n",
       "    <tr>\n",
       "      <th>Not-Churned</th>\n",
       "      <td>0.574069</td>\n",
       "      <td>0.551148</td>\n",
       "      <td>0.405702</td>\n",
       "      <td>0.52271</td>\n",
       "    </tr>\n",
       "    <tr>\n",
       "      <th>All</th>\n",
       "      <td>1.000000</td>\n",
       "      <td>1.000000</td>\n",
       "      <td>1.000000</td>\n",
       "      <td>1.00000</td>\n",
       "    </tr>\n",
       "  </tbody>\n",
       "</table>\n",
       "</div>"
      ],
      "text/plain": [
       "merchant_type  business   charity  individual      All\n",
       "label                                                 \n",
       "Churned        0.425931  0.448852    0.594298  0.47729\n",
       "Not-Churned    0.574069  0.551148    0.405702  0.52271\n",
       "All            1.000000  1.000000    1.000000  1.00000"
      ]
     },
     "execution_count": 420,
     "metadata": {},
     "output_type": "execute_result"
    }
   ],
   "source": [
    "merchant_crosstab = pd.crosstab(df_model_data['label'], df_model_data['merchant_type'], margins=True, normalize=False)\n",
    "new_index = {1: 'Not-Churned', 0: 'Churned', }\n",
    "merchant_crosstab.rename(index=new_index,inplace=True)\n",
    "merchant_crosstab/merchant_crosstab.loc['All']"
   ]
  },
  {
   "cell_type": "code",
   "execution_count": 421,
   "metadata": {},
   "outputs": [
    {
     "data": {
      "text/html": [
       "<div>\n",
       "<style scoped>\n",
       "    .dataframe tbody tr th:only-of-type {\n",
       "        vertical-align: middle;\n",
       "    }\n",
       "\n",
       "    .dataframe tbody tr th {\n",
       "        vertical-align: top;\n",
       "    }\n",
       "\n",
       "    .dataframe thead th {\n",
       "        text-align: right;\n",
       "    }\n",
       "</style>\n",
       "<table border=\"1\" class=\"dataframe\">\n",
       "  <thead>\n",
       "    <tr style=\"text-align: right;\">\n",
       "      <th>has_logo</th>\n",
       "      <th>False</th>\n",
       "      <th>True</th>\n",
       "      <th>All</th>\n",
       "    </tr>\n",
       "    <tr>\n",
       "      <th>label</th>\n",
       "      <th></th>\n",
       "      <th></th>\n",
       "      <th></th>\n",
       "    </tr>\n",
       "  </thead>\n",
       "  <tbody>\n",
       "    <tr>\n",
       "      <th>Churned</th>\n",
       "      <td>0.520833</td>\n",
       "      <td>0.431857</td>\n",
       "      <td>0.480742</td>\n",
       "    </tr>\n",
       "    <tr>\n",
       "      <th>Not-Churned</th>\n",
       "      <td>0.479167</td>\n",
       "      <td>0.568143</td>\n",
       "      <td>0.519258</td>\n",
       "    </tr>\n",
       "    <tr>\n",
       "      <th>All</th>\n",
       "      <td>1.000000</td>\n",
       "      <td>1.000000</td>\n",
       "      <td>1.000000</td>\n",
       "    </tr>\n",
       "  </tbody>\n",
       "</table>\n",
       "</div>"
      ],
      "text/plain": [
       "has_logo        False      True       All\n",
       "label                                    \n",
       "Churned      0.520833  0.431857  0.480742\n",
       "Not-Churned  0.479167  0.568143  0.519258\n",
       "All          1.000000  1.000000  1.000000"
      ]
     },
     "execution_count": 421,
     "metadata": {},
     "output_type": "execute_result"
    }
   ],
   "source": [
    "logo_crosstab = pd.crosstab(df_model_data['label'], df_model_data['has_logo'], margins=True, normalize=False)\n",
    "new_index = {1: 'Not-Churned', 0: 'Churned', }\n",
    "logo_crosstab.rename(index=new_index,inplace=True)\n",
    "logo_crosstab/logo_crosstab.loc['All']"
   ]
  },
  {
   "cell_type": "markdown",
   "metadata": {},
   "source": [
    "As seen from the two crosstabs we could see that business has the highest amount of retention and creditors with logo also has better retention"
   ]
  },
  {
   "cell_type": "code",
   "execution_count": 422,
   "metadata": {},
   "outputs": [
    {
     "data": {
      "image/png": "[encoded data removed]",
      "text/plain": [
       "<matplotlib.figure.Figure at 0x1a1c5aab70>"
      ]
     },
     "metadata": {},
     "output_type": "display_data"
    }
   ],
   "source": [
    "## Also we check if country code also have an impact on churn\n",
    "temp = df_model_data[\"country_code\"].value_counts()\n",
    "df = pd.DataFrame({'country_code': temp.index,'values': temp.values})\n",
    "plt.figure(figsize = (6,6))\n",
    "plt.title('Distribution of active users of Q4 by country code')\n",
    "sns.set_color_codes(\"pastel\")\n",
    "sns.barplot(x = 'country_code', y=\"values\", data=df)\n",
    "locs, labels = plt.xticks()\n",
    "plt.show()"
   ]
  },
  {
   "cell_type": "markdown",
   "metadata": {},
   "source": [
    "As we see that GB is the country code we could safely assume that thats not a great feature for seperation of churn and non churn users\n",
    "\n",
    "Hence we check the WoE and Information value of merchant type and has logo for the labelled data set"
   ]
  },
  {
   "cell_type": "code",
   "execution_count": 423,
   "metadata": {},
   "outputs": [],
   "source": [
    "# The function to calculate information value\n",
    "def calc_iv(df, feature, target):\n",
    "\n",
    "    lst = []\n",
    "\n",
    "    for i in range(df[feature].nunique()):\n",
    "        val = list(df[feature].unique())[i]\n",
    "        lst.append([feature, val, df[df[feature] == val].count()[feature], \n",
    "                    df[(df[feature] == val) & (df[target] == 1)].count()[feature]])\n",
    "\n",
    "    data = pd.DataFrame(lst, columns=['Variable', 'Value', 'All', 'Bad'])\n",
    "    data = data[data['Bad'] > 0]\n",
    "\n",
    "    data['Share'] = data['All'] / data['All'].sum()\n",
    "    data['Bad Rate'] = data['Bad'] / data['All']\n",
    "    data['Distribution Good'] = (data['All'] - data['Bad']) / (data['All'].sum() - data['Bad'].sum())\n",
    "    data['Distribution Bad'] = data['Bad'] / data['Bad'].sum()\n",
    "    data['WoE_'+str(feature)] = np.log(data['Distribution Good'] / data['Distribution Bad'])\n",
    "    data['IV_'+str(feature)] = (data['WoE_'+str(feature)] * (data['Distribution Good'] - data['Distribution Bad'])).sum()\n",
    "\n",
    "    data = data.sort_values(by=['Variable', 'Value'], ascending=True)\n",
    "    \n",
    "    data=data[['Variable', 'Value','WoE_'+str(feature),'IV_'+str(feature)]]\n",
    "    data.replace([np.inf, -np.inf], 1,inplace=True)\n",
    "\n",
    " \n",
    "    return (data)\n",
    "\n",
    "# The function to difference of two lists\n",
    "def Diff(li1, li2): \n",
    "    return (list(set(li1) - set(li2)))"
   ]
  },
  {
   "cell_type": "code",
   "execution_count": 424,
   "metadata": {},
   "outputs": [],
   "source": [
    "categories=['merchant_type','has_logo']\n",
    "for category in categories:\n",
    "    data_out=calc_iv(df_model_data,category,target='label')\n",
    "    df_model_data=pd.merge(df_model_data,data_out,how='left',left_on=category,right_on='Value')"
   ]
  },
  {
   "cell_type": "markdown",
   "metadata": {},
   "source": [
    "As we have a labelled data set of all creditors and the WoE and IV of the two categorical variables we now consider the activity pattern for the creditors from Jan 2016 to Sep 2016. If there is any transaction done we flag the month as 1 else 0. "
   ]
  },
  {
   "cell_type": "code",
   "execution_count": 425,
   "metadata": {},
   "outputs": [
    {
     "data": {
      "text/html": [
       "<div>\n",
       "<style scoped>\n",
       "    .dataframe tbody tr th:only-of-type {\n",
       "        vertical-align: middle;\n",
       "    }\n",
       "\n",
       "    .dataframe tbody tr th {\n",
       "        vertical-align: top;\n",
       "    }\n",
       "\n",
       "    .dataframe thead th {\n",
       "        text-align: right;\n",
       "    }\n",
       "</style>\n",
       "<table border=\"1\" class=\"dataframe\">\n",
       "  <thead>\n",
       "    <tr style=\"text-align: right;\">\n",
       "      <th></th>\n",
       "      <th>index</th>\n",
       "      <th>id</th>\n",
       "      <th>original_id</th>\n",
       "      <th>created_at</th>\n",
       "      <th>has_logo</th>\n",
       "      <th>country_code</th>\n",
       "      <th>merchant_type</th>\n",
       "      <th>refunds_enabled</th>\n",
       "      <th>creditor_id_x</th>\n",
       "      <th>month_x</th>\n",
       "      <th>creditor_id_y</th>\n",
       "      <th>month_y</th>\n",
       "      <th>label</th>\n",
       "      <th>age</th>\n",
       "      <th>Variable_x</th>\n",
       "      <th>Value_x</th>\n",
       "      <th>WoE_merchant_type</th>\n",
       "      <th>IV_merchant_type</th>\n",
       "      <th>Variable_y</th>\n",
       "      <th>Value_y</th>\n",
       "      <th>WoE_has_logo</th>\n",
       "      <th>IV_has_logo</th>\n",
       "      <th>creditor_id</th>\n",
       "      <th>total_vol_tran</th>\n",
       "      <th>total_num_tran</th>\n",
       "      <th>distinct_month_tran</th>\n",
       "      <th>avg_vol_mon</th>\n",
       "    </tr>\n",
       "  </thead>\n",
       "  <tbody>\n",
       "    <tr>\n",
       "      <th>0</th>\n",
       "      <td>0</td>\n",
       "      <td>e86212e4bc9634af</td>\n",
       "      <td>CR00001KBJ97DN</td>\n",
       "      <td>2012-10-10 17:28:18.000000</td>\n",
       "      <td>False</td>\n",
       "      <td>GB</td>\n",
       "      <td>business</td>\n",
       "      <td>False</td>\n",
       "      <td>e86212e4bc9634af</td>\n",
       "      <td>12.0</td>\n",
       "      <td>e86212e4bc9634af</td>\n",
       "      <td>1.0</td>\n",
       "      <td>1</td>\n",
       "      <td>1450</td>\n",
       "      <td>merchant_type</td>\n",
       "      <td>business</td>\n",
       "      <td>-0.207571</td>\n",
       "      <td>0.089236</td>\n",
       "      <td>has_logo</td>\n",
       "      <td>False</td>\n",
       "      <td>0.16045</td>\n",
       "      <td>0.031559</td>\n",
       "      <td>e86212e4bc9634af</td>\n",
       "      <td>3513.38</td>\n",
       "      <td>61.0</td>\n",
       "      <td>12.0</td>\n",
       "      <td>292.781667</td>\n",
       "    </tr>\n",
       "    <tr>\n",
       "      <th>1</th>\n",
       "      <td>1</td>\n",
       "      <td>6d6068ca26ce1e22</td>\n",
       "      <td>CR00003KVHNF38</td>\n",
       "      <td>2015-08-10 11:15:35.850315</td>\n",
       "      <td>True</td>\n",
       "      <td>GB</td>\n",
       "      <td>business</td>\n",
       "      <td>False</td>\n",
       "      <td>6d6068ca26ce1e22</td>\n",
       "      <td>12.0</td>\n",
       "      <td>6d6068ca26ce1e22</td>\n",
       "      <td>1.0</td>\n",
       "      <td>1</td>\n",
       "      <td>416</td>\n",
       "      <td>merchant_type</td>\n",
       "      <td>business</td>\n",
       "      <td>-0.207571</td>\n",
       "      <td>0.089236</td>\n",
       "      <td>has_logo</td>\n",
       "      <td>True</td>\n",
       "      <td>-0.19721</td>\n",
       "      <td>0.031559</td>\n",
       "      <td>6d6068ca26ce1e22</td>\n",
       "      <td>3011.08</td>\n",
       "      <td>50.0</td>\n",
       "      <td>11.0</td>\n",
       "      <td>273.734545</td>\n",
       "    </tr>\n",
       "    <tr>\n",
       "      <th>2</th>\n",
       "      <td>2</td>\n",
       "      <td>f6410ee29a280622</td>\n",
       "      <td>CR00003SM66ZXX</td>\n",
       "      <td>2015-10-19 10:28:57.401961</td>\n",
       "      <td>True</td>\n",
       "      <td>GB</td>\n",
       "      <td>business</td>\n",
       "      <td>False</td>\n",
       "      <td>f6410ee29a280622</td>\n",
       "      <td>12.0</td>\n",
       "      <td>f6410ee29a280622</td>\n",
       "      <td>1.0</td>\n",
       "      <td>1</td>\n",
       "      <td>346</td>\n",
       "      <td>merchant_type</td>\n",
       "      <td>business</td>\n",
       "      <td>-0.207571</td>\n",
       "      <td>0.089236</td>\n",
       "      <td>has_logo</td>\n",
       "      <td>True</td>\n",
       "      <td>-0.19721</td>\n",
       "      <td>0.031559</td>\n",
       "      <td>f6410ee29a280622</td>\n",
       "      <td>1048.03</td>\n",
       "      <td>52.0</td>\n",
       "      <td>11.0</td>\n",
       "      <td>95.275455</td>\n",
       "    </tr>\n",
       "    <tr>\n",
       "      <th>3</th>\n",
       "      <td>3</td>\n",
       "      <td>71df1a1523e4cc85</td>\n",
       "      <td>CR00003SNDMQ4G</td>\n",
       "      <td>2015-10-19 14:19:25.106170</td>\n",
       "      <td>False</td>\n",
       "      <td>GB</td>\n",
       "      <td>individual</td>\n",
       "      <td>False</td>\n",
       "      <td>71df1a1523e4cc85</td>\n",
       "      <td>11.0</td>\n",
       "      <td>71df1a1523e4cc85</td>\n",
       "      <td>1.0</td>\n",
       "      <td>1</td>\n",
       "      <td>346</td>\n",
       "      <td>merchant_type</td>\n",
       "      <td>individual</td>\n",
       "      <td>0.472664</td>\n",
       "      <td>0.089236</td>\n",
       "      <td>has_logo</td>\n",
       "      <td>False</td>\n",
       "      <td>0.16045</td>\n",
       "      <td>0.031559</td>\n",
       "      <td>71df1a1523e4cc85</td>\n",
       "      <td>3859.97</td>\n",
       "      <td>47.0</td>\n",
       "      <td>11.0</td>\n",
       "      <td>350.906364</td>\n",
       "    </tr>\n",
       "    <tr>\n",
       "      <th>4</th>\n",
       "      <td>4</td>\n",
       "      <td>e20d37e020a2684f</td>\n",
       "      <td>CR000047GZPHBZ</td>\n",
       "      <td>2016-03-19 13:44:53.916311</td>\n",
       "      <td>False</td>\n",
       "      <td>GB</td>\n",
       "      <td>business</td>\n",
       "      <td>True</td>\n",
       "      <td>e20d37e020a2684f</td>\n",
       "      <td>12.0</td>\n",
       "      <td>e20d37e020a2684f</td>\n",
       "      <td>8.0</td>\n",
       "      <td>1</td>\n",
       "      <td>194</td>\n",
       "      <td>merchant_type</td>\n",
       "      <td>business</td>\n",
       "      <td>-0.207571</td>\n",
       "      <td>0.089236</td>\n",
       "      <td>has_logo</td>\n",
       "      <td>False</td>\n",
       "      <td>0.16045</td>\n",
       "      <td>0.031559</td>\n",
       "      <td>e20d37e020a2684f</td>\n",
       "      <td>10816.06</td>\n",
       "      <td>26.0</td>\n",
       "      <td>5.0</td>\n",
       "      <td>2163.212000</td>\n",
       "    </tr>\n",
       "  </tbody>\n",
       "</table>\n",
       "</div>"
      ],
      "text/plain": [
       "   index                id     original_id                 created_at  has_logo country_code merchant_type  refunds_enabled     creditor_id_x  month_x     creditor_id_y  month_y  label   age     Variable_x     Value_x  WoE_merchant_type  IV_merchant_type Variable_y  Value_y  WoE_has_logo  IV_has_logo       creditor_id  total_vol_tran  total_num_tran  distinct_month_tran  avg_vol_mon\n",
       "0      0  e86212e4bc9634af  CR00001KBJ97DN 2012-10-10 17:28:18.000000     False           GB      business            False  e86212e4bc9634af     12.0  e86212e4bc9634af      1.0      1  1450  merchant_type    business          -0.207571          0.089236   has_logo    False       0.16045     0.031559  e86212e4bc9634af         3513.38            61.0                 12.0   292.781667\n",
       "1      1  6d6068ca26ce1e22  CR00003KVHNF38 2015-08-10 11:15:35.850315      True           GB      business            False  6d6068ca26ce1e22     12.0  6d6068ca26ce1e22      1.0      1   416  merchant_type    business          -0.207571          0.089236   has_logo     True      -0.19721     0.031559  6d6068ca26ce1e22         3011.08            50.0                 11.0   273.734545\n",
       "2      2  f6410ee29a280622  CR00003SM66ZXX 2015-10-19 10:28:57.401961      True           GB      business            False  f6410ee29a280622     12.0  f6410ee29a280622      1.0      1   346  merchant_type    business          -0.207571          0.089236   has_logo     True      -0.19721     0.031559  f6410ee29a280622         1048.03            52.0                 11.0    95.275455\n",
       "3      3  71df1a1523e4cc85  CR00003SNDMQ4G 2015-10-19 14:19:25.106170     False           GB    individual            False  71df1a1523e4cc85     11.0  71df1a1523e4cc85      1.0      1   346  merchant_type  individual           0.472664          0.089236   has_logo    False       0.16045     0.031559  71df1a1523e4cc85         3859.97            47.0                 11.0   350.906364\n",
       "4      4  e20d37e020a2684f  CR000047GZPHBZ 2016-03-19 13:44:53.916311     False           GB      business             True  e20d37e020a2684f     12.0  e20d37e020a2684f      8.0      1   194  merchant_type    business          -0.207571          0.089236   has_logo    False       0.16045     0.031559  e20d37e020a2684f        10816.06            26.0                  5.0  2163.212000"
      ]
     },
     "execution_count": 425,
     "metadata": {},
     "output_type": "execute_result"
    }
   ],
   "source": [
    "## Analysing the value and volume transacted by the creditors active in 2016\n",
    "\n",
    "df_payments_user_total=df_payments.groupby(['creditor_id']).agg({\n",
    "                                                                    'amount_gbp':'sum',\n",
    "                                                                    'index':'count',\n",
    "                                                                    'month':'nunique'\n",
    "                                                                        }).reset_index()\n",
    "df_payments_user_total['average_transaction']=df_payments_user_total['amount_gbp']/df_payments_user_total[\"month\"]\n",
    "df_payments_user_total.columns=['creditor_id','total_vol_tran','total_num_tran','distinct_month_tran','avg_vol_mon']\n",
    "df_model_data=pd.merge(df_model_data,df_payments_user_total,how='left',left_on='id',right_on='creditor_id')\n",
    "df_model_data.head()\n"
   ]
  },
  {
   "cell_type": "code",
   "execution_count": 426,
   "metadata": {},
   "outputs": [
    {
     "data": {
      "text/plain": [
       "Text(0.5,1,'Density plot by total amount of transaction')"
      ]
     },
     "execution_count": 426,
     "metadata": {},
     "output_type": "execute_result"
    },
    {
     "data": {
      "image/png": "[encoded data removed]",
      "text/plain": [
       "<matplotlib.figure.Figure at 0x1a1d60eeb8>"
      ]
     },
     "metadata": {},
     "output_type": "display_data"
    }
   ],
   "source": [
    "churn = df_model_data[df_model_data[\"label\"] == 0]\n",
    "non_churn = df_model_data[df_model_data[\"label\"] == 1]\n",
    "churn[\"churn\"] = churn[\"total_vol_tran\"]\n",
    "non_churn[\"non_churn\"] = non_churn[\"total_vol_tran\"]\n",
    "f, ax = plt.subplots(figsize=(12, 6))\n",
    "ax = sns.kdeplot(churn[\"churn\"], shade=True, color=\"r\")\n",
    "ax = sns.kdeplot(non_churn[\"non_churn\"], shade=True, color=\"g\")\n",
    "plt.title('Density plot by total amount of transaction')"
   ]
  },
  {
   "cell_type": "code",
   "execution_count": 427,
   "metadata": {},
   "outputs": [
    {
     "data": {
      "text/plain": [
       "Text(0.5,1,'Density plot by no of distinct transaction month')"
      ]
     },
     "execution_count": 427,
     "metadata": {},
     "output_type": "execute_result"
    },
    {
     "data": {
      "image/png": "[encoded data removed]",
      "text/plain": [
       "<matplotlib.figure.Figure at 0x1a2a1bb048>"
      ]
     },
     "metadata": {},
     "output_type": "display_data"
    }
   ],
   "source": [
    "churn = df_model_data[df_model_data[\"label\"] == 0]\n",
    "non_churn = df_model_data[df_model_data[\"label\"] == 1]\n",
    "churn[\"churn\"] = churn[\"distinct_month_tran\"]\n",
    "non_churn[\"non_churn\"] = non_churn[\"distinct_month_tran\"]\n",
    "f, ax = plt.subplots(figsize=(12, 6))\n",
    "ax = sns.kdeplot(churn[\"churn\"], shade=True, color=\"r\")\n",
    "ax = sns.kdeplot(non_churn[\"non_churn\"], shade=True, color=\"g\")\n",
    "plt.title('Density plot by no of distinct transaction month')"
   ]
  },
  {
   "cell_type": "code",
   "execution_count": 428,
   "metadata": {},
   "outputs": [
    {
     "data": {
      "text/plain": [
       "Text(0.5,1,'Density plot by total number of transactions')"
      ]
     },
     "execution_count": 428,
     "metadata": {},
     "output_type": "execute_result"
    },
    {
     "data": {
      "image/png": "[encoded data removed]",
      "text/plain": [
       "<matplotlib.figure.Figure at 0x1a2f308d30>"
      ]
     },
     "metadata": {},
     "output_type": "display_data"
    }
   ],
   "source": [
    "churn = df_model_data[df_model_data[\"label\"] == 0]\n",
    "non_churn = df_model_data[df_model_data[\"label\"] == 1]\n",
    "churn[\"churn\"] = churn[\"total_num_tran\"]\n",
    "non_churn[\"non_churn\"] = non_churn[\"total_num_tran\"]\n",
    "f, ax = plt.subplots(figsize=(12, 6))\n",
    "ax = sns.kdeplot(churn[\"churn\"], shade=True, color=\"r\")\n",
    "ax = sns.kdeplot(non_churn[\"non_churn\"], shade=True, color=\"g\")\n",
    "plt.title('Density plot by total number of transactions')"
   ]
  },
  {
   "cell_type": "code",
   "execution_count": 429,
   "metadata": {},
   "outputs": [
    {
     "data": {
      "text/plain": [
       "Text(0.5,1,'Density plot by average amount of transaction')"
      ]
     },
     "execution_count": 429,
     "metadata": {},
     "output_type": "execute_result"
    },
    {
     "data": {
      "image/png": "[encoded data removed]",
      "text/plain": [
       "<matplotlib.figure.Figure at 0x1a2aae6c18>"
      ]
     },
     "metadata": {},
     "output_type": "display_data"
    }
   ],
   "source": [
    "churn = df_model_data[df_model_data[\"label\"] == 0]\n",
    "non_churn = df_model_data[df_model_data[\"label\"] == 1]\n",
    "churn[\"churn\"] = churn[\"avg_vol_mon\"]\n",
    "non_churn[\"non_churn\"] = non_churn[\"avg_vol_mon\"]\n",
    "f, ax = plt.subplots(figsize=(12, 6))\n",
    "ax = sns.kdeplot(churn[\"churn\"], shade=True, color=\"r\")\n",
    "ax = sns.kdeplot(non_churn[\"non_churn\"], shade=True, color=\"g\")\n",
    "plt.title('Density plot by average amount of transaction')"
   ]
  },
  {
   "cell_type": "code",
   "execution_count": 430,
   "metadata": {},
   "outputs": [
    {
     "data": {
      "text/plain": [
       "Text(0.5,1,'Density plot by age of creditors')"
      ]
     },
     "execution_count": 430,
     "metadata": {},
     "output_type": "execute_result"
    },
    {
     "data": {
      "image/png": "[encoded data removed]",
      "text/plain": [
       "<matplotlib.figure.Figure at 0x1a15f3f6d8>"
      ]
     },
     "metadata": {},
     "output_type": "display_data"
    }
   ],
   "source": [
    "churn = df_model_data[df_model_data[\"label\"] == 0]\n",
    "non_churn = df_model_data[df_model_data[\"label\"] == 1]\n",
    "churn[\"churn\"] = churn[\"age\"]\n",
    "non_churn[\"non_churn\"] = non_churn[\"age\"]\n",
    "f, ax = plt.subplots(figsize=(12, 6))\n",
    "ax = sns.kdeplot(churn[\"churn\"], shade=True, color=\"r\")\n",
    "ax = sns.kdeplot(non_churn[\"non_churn\"], shade=True, color=\"g\")\n",
    "plt.title('Density plot by age of creditors')"
   ]
  },
  {
   "cell_type": "markdown",
   "metadata": {},
   "source": [
    "From the 5 density plot we could see the following things:\n",
    "1. Users with more number of transaction tend to churn less\n",
    "2. Users with low overall and average transaction by amount tends to churn more\n",
    "3. Users with less no of distinct months they are active tends to churn more.\n",
    "4. Users with low age has a peak in churn showing lower age and less activity might be a factor to churn. However there are 339 new users who joined the system on or after OCT 2016 and hence age as a feature would result in penalising them for being new which might skew the prediction. Hence we will not use age as a feature for this model\n",
    "5. However in case we had more data we could have learnt two models seperately for new as well as old users."
   ]
  },
  {
   "cell_type": "code",
   "execution_count": 431,
   "metadata": {},
   "outputs": [
    {
     "data": {
      "text/plain": [
       "<matplotlib.axes._subplots.AxesSubplot at 0x1a1cc013c8>"
      ]
     },
     "execution_count": 431,
     "metadata": {},
     "output_type": "execute_result"
    },
    {
     "data": {
      "image/png": "[encoded data removed]",
      "text/plain": [
       "<matplotlib.figure.Figure at 0x1a1d175278>"
      ]
     },
     "metadata": {},
     "output_type": "display_data"
    }
   ],
   "source": [
    "# We see the correlation between the 4 numeric variables in this heat map cross correlation plot\n",
    "cor = df_model_data[['total_vol_tran','total_num_tran','distinct_month_tran','avg_vol_mon','age']].corr()\n",
    "plt.figure(figsize=(18,18))\n",
    "sns.heatmap(cor, cbar = True,  square = True, annot=True, fmt= '.2f',annot_kws={'size': 10},\n",
    "            xticklabels=cor.columns.values,\n",
    "            yticklabels=cor.columns.values)"
   ]
  },
  {
   "cell_type": "markdown",
   "metadata": {},
   "source": [
    "We could see a 0.92 correlation factor between **avg_vol_tran** and **total_vol_tran** and hence we will use **avg_vol_tran**. Also we use **total_num_tran** as another numeric feature since **distinct_month_tran** is used a converted feature of active activities as shown in the next step"
   ]
  },
  {
   "cell_type": "code",
   "execution_count": 432,
   "metadata": {},
   "outputs": [],
   "source": [
    "## To create the data set we create an arrays of 1 and 0 for creditors based on their active month of usage. \n",
    "## Example if a user is active in march and april the out put will be [0,0,1,1,0,0,0,0,0] till Sept 2016\n",
    "\n",
    "df_creditor_activity=pd.DataFrame()\n",
    "for creditor in df_model_data.id.unique():\n",
    "    overall_activity=[1,2,3,4,5,6,7,8,9]\n",
    "    df_activity=df_payments[(df_payments.creditor_id==creditor)]\n",
    "    df_activity=df_activity[df_activity.month<=9]\n",
    "    amount_tran=np.mean(df_activity.amount_gbp)\n",
    "    num_tran=len(df_activity)\n",
    "    active_months=df_activity.month.unique()\n",
    "    no_actvity=Diff(overall_activity,active_months)\n",
    "    for i in no_actvity:\n",
    "        if i in overall_activity:\n",
    "            x=overall_activity.index(i)\n",
    "            overall_activity[x]=0\n",
    "    overall_activity = [1 if x>0 else x for x in overall_activity]\n",
    "    temp=({'creditor':creditor,'active':overall_activity,'amount_tran':amount_tran,'num_tran':num_tran})\n",
    "    df_creditor_activity=df_creditor_activity.append(temp,ignore_index=True)"
   ]
  },
  {
   "cell_type": "code",
   "execution_count": 433,
   "metadata": {},
   "outputs": [],
   "source": [
    "df_model_data=pd.merge(df_model_data,df_creditor_activity,how='left',left_on='id',right_on='creditor')"
   ]
  },
  {
   "cell_type": "code",
   "execution_count": 434,
   "metadata": {},
   "outputs": [
    {
     "name": "stdout",
     "output_type": "stream",
     "text": [
      "                   Total    Percent\n",
      "amount_tran         1023  15.823666\n",
      "IV_merchant_type      58   0.897138\n",
      "WoE_merchant_type     58   0.897138\n",
      "8                      0   0.000000\n",
      "7                      0   0.000000\n",
      "6                      0   0.000000\n",
      "5                      0   0.000000\n",
      "4                      0   0.000000\n",
      "3                      0   0.000000\n",
      "2                      0   0.000000\n",
      "1                      0   0.000000\n",
      "0                      0   0.000000\n",
      "num_tran               0   0.000000\n",
      "IV_has_logo            0   0.000000\n",
      "WoE_has_logo           0   0.000000\n"
     ]
    }
   ],
   "source": [
    "## We create the dataset to run our models \n",
    "y=df_model_data.label\n",
    "x=df_model_data[['active','WoE_merchant_type','IV_merchant_type','WoE_has_logo','IV_has_logo','amount_tran','num_tran']]\n",
    "z=x['active'].apply(pd.Series)\n",
    "x = x.merge(z, how='outer', left_index=True, right_index=True)\n",
    "x=x.drop(['active'],axis = 1)\n",
    "\n",
    "## We now scale the numeric variables used in the dataset \n",
    "\n",
    "print(nulldata(x))"
   ]
  },
  {
   "cell_type": "markdown",
   "metadata": {},
   "source": [
    "As we see the merchant type has null values we replace them with mode of the entire data set since they are categorical variables. However the amount tran is null for users who were not active through out the last 9 months from Jan 2016 to Sep 2016 and hence replaced by 0"
   ]
  },
  {
   "cell_type": "code",
   "execution_count": 435,
   "metadata": {},
   "outputs": [],
   "source": [
    "x['amount_tran'].fillna(0, inplace=True)\n",
    "for column in x.columns:\n",
    "    x[column].fillna(x[column].mode()[0], inplace=True)"
   ]
  },
  {
   "cell_type": "code",
   "execution_count": 436,
   "metadata": {},
   "outputs": [
    {
     "data": {
      "text/html": [
       "<div>\n",
       "<style scoped>\n",
       "    .dataframe tbody tr th:only-of-type {\n",
       "        vertical-align: middle;\n",
       "    }\n",
       "\n",
       "    .dataframe tbody tr th {\n",
       "        vertical-align: top;\n",
       "    }\n",
       "\n",
       "    .dataframe thead th {\n",
       "        text-align: right;\n",
       "    }\n",
       "</style>\n",
       "<table border=\"1\" class=\"dataframe\">\n",
       "  <thead>\n",
       "    <tr style=\"text-align: right;\">\n",
       "      <th></th>\n",
       "      <th>WoE_merchant_type</th>\n",
       "      <th>IV_merchant_type</th>\n",
       "      <th>WoE_has_logo</th>\n",
       "      <th>IV_has_logo</th>\n",
       "      <th>amount_tran</th>\n",
       "      <th>num_tran</th>\n",
       "      <th>0</th>\n",
       "      <th>1</th>\n",
       "      <th>2</th>\n",
       "      <th>3</th>\n",
       "      <th>4</th>\n",
       "      <th>5</th>\n",
       "      <th>6</th>\n",
       "      <th>7</th>\n",
       "      <th>8</th>\n",
       "    </tr>\n",
       "  </thead>\n",
       "  <tbody>\n",
       "    <tr>\n",
       "      <th>0</th>\n",
       "      <td>-0.207571</td>\n",
       "      <td>0.089236</td>\n",
       "      <td>0.16045</td>\n",
       "      <td>0.031559</td>\n",
       "      <td>-0.228076</td>\n",
       "      <td>0.241153</td>\n",
       "      <td>1</td>\n",
       "      <td>1</td>\n",
       "      <td>1</td>\n",
       "      <td>1</td>\n",
       "      <td>1</td>\n",
       "      <td>1</td>\n",
       "      <td>1</td>\n",
       "      <td>1</td>\n",
       "      <td>1</td>\n",
       "    </tr>\n",
       "    <tr>\n",
       "      <th>1</th>\n",
       "      <td>-0.207571</td>\n",
       "      <td>0.089236</td>\n",
       "      <td>-0.19721</td>\n",
       "      <td>0.031559</td>\n",
       "      <td>-0.249134</td>\n",
       "      <td>0.052139</td>\n",
       "      <td>1</td>\n",
       "      <td>1</td>\n",
       "      <td>0</td>\n",
       "      <td>1</td>\n",
       "      <td>1</td>\n",
       "      <td>1</td>\n",
       "      <td>1</td>\n",
       "      <td>1</td>\n",
       "      <td>1</td>\n",
       "    </tr>\n",
       "    <tr>\n",
       "      <th>2</th>\n",
       "      <td>-0.207571</td>\n",
       "      <td>0.089236</td>\n",
       "      <td>-0.19721</td>\n",
       "      <td>0.031559</td>\n",
       "      <td>-0.318649</td>\n",
       "      <td>-0.001865</td>\n",
       "      <td>1</td>\n",
       "      <td>0</td>\n",
       "      <td>1</td>\n",
       "      <td>1</td>\n",
       "      <td>1</td>\n",
       "      <td>1</td>\n",
       "      <td>1</td>\n",
       "      <td>1</td>\n",
       "      <td>1</td>\n",
       "    </tr>\n",
       "    <tr>\n",
       "      <th>3</th>\n",
       "      <td>0.472664</td>\n",
       "      <td>0.089236</td>\n",
       "      <td>0.16045</td>\n",
       "      <td>0.031559</td>\n",
       "      <td>-0.201565</td>\n",
       "      <td>0.119644</td>\n",
       "      <td>1</td>\n",
       "      <td>1</td>\n",
       "      <td>1</td>\n",
       "      <td>1</td>\n",
       "      <td>1</td>\n",
       "      <td>1</td>\n",
       "      <td>1</td>\n",
       "      <td>1</td>\n",
       "      <td>1</td>\n",
       "    </tr>\n",
       "    <tr>\n",
       "      <th>4</th>\n",
       "      <td>-0.207571</td>\n",
       "      <td>0.089236</td>\n",
       "      <td>0.16045</td>\n",
       "      <td>0.031559</td>\n",
       "      <td>0.412738</td>\n",
       "      <td>-0.231382</td>\n",
       "      <td>0</td>\n",
       "      <td>0</td>\n",
       "      <td>0</td>\n",
       "      <td>0</td>\n",
       "      <td>0</td>\n",
       "      <td>0</td>\n",
       "      <td>0</td>\n",
       "      <td>1</td>\n",
       "      <td>1</td>\n",
       "    </tr>\n",
       "  </tbody>\n",
       "</table>\n",
       "</div>"
      ],
      "text/plain": [
       "   WoE_merchant_type  IV_merchant_type  WoE_has_logo  IV_has_logo  amount_tran  num_tran  0  1  2  3  4  5  6  7  8\n",
       "0          -0.207571          0.089236       0.16045     0.031559    -0.228076  0.241153  1  1  1  1  1  1  1  1  1\n",
       "1          -0.207571          0.089236      -0.19721     0.031559    -0.249134  0.052139  1  1  0  1  1  1  1  1  1\n",
       "2          -0.207571          0.089236      -0.19721     0.031559    -0.318649 -0.001865  1  0  1  1  1  1  1  1  1\n",
       "3           0.472664          0.089236       0.16045     0.031559    -0.201565  0.119644  1  1  1  1  1  1  1  1  1\n",
       "4          -0.207571          0.089236       0.16045     0.031559     0.412738 -0.231382  0  0  0  0  0  0  0  1  1"
      ]
     },
     "execution_count": 436,
     "metadata": {},
     "output_type": "execute_result"
    }
   ],
   "source": [
    "## Now before we use the data in model and create test train we are scaling the two numeric variables\n",
    "scaler = preprocessing.StandardScaler()\n",
    "x[['amount_tran','num_tran']]=scaler.fit_transform(x[['amount_tran','num_tran']])\n",
    "x.head()"
   ]
  },
  {
   "cell_type": "code",
   "execution_count": 437,
   "metadata": {},
   "outputs": [],
   "source": [
    "# We divide the dataset in test and train with a split of 70/30\n",
    "x_train, x_test, y_train, y_test = train_test_split(x, y, test_size=0.3, stratify=y, random_state=2)"
   ]
  },
  {
   "cell_type": "code",
   "execution_count": 438,
   "metadata": {},
   "outputs": [],
   "source": [
    "# Simultaneously we train 5 supervised learning algorithms and then check their accuracy and F1 score\n",
    "clfs = {\n",
    "'LogisticRegression' : LogisticRegression(),\n",
    "'RandomForest': RandomForestClassifier(),\n",
    "'DecisionTreeClassifier': DecisionTreeClassifier(),\n",
    "'GradientBoosting': GradientBoostingClassifier(),\n",
    "'XGBClassifier': XGBClassifier()\n",
    "}"
   ]
  },
  {
   "cell_type": "code",
   "execution_count": 439,
   "metadata": {},
   "outputs": [
    {
     "data": {
      "text/html": [
       "<div>\n",
       "<style scoped>\n",
       "    .dataframe tbody tr th:only-of-type {\n",
       "        vertical-align: middle;\n",
       "    }\n",
       "\n",
       "    .dataframe tbody tr th {\n",
       "        vertical-align: top;\n",
       "    }\n",
       "\n",
       "    .dataframe thead th {\n",
       "        text-align: right;\n",
       "    }\n",
       "</style>\n",
       "<table border=\"1\" class=\"dataframe\">\n",
       "  <thead>\n",
       "    <tr style=\"text-align: right;\">\n",
       "      <th></th>\n",
       "      <th>Model</th>\n",
       "      <th>Precision_score</th>\n",
       "      <th>Recall_score</th>\n",
       "      <th>F1_score</th>\n",
       "      <th>Accuracy</th>\n",
       "    </tr>\n",
       "  </thead>\n",
       "  <tbody>\n",
       "    <tr>\n",
       "      <th>0</th>\n",
       "      <td>LogisticRegression</td>\n",
       "      <td>0.903292</td>\n",
       "      <td>0.871897</td>\n",
       "      <td>0.887317</td>\n",
       "      <td>0.885052</td>\n",
       "    </tr>\n",
       "    <tr>\n",
       "      <th>1</th>\n",
       "      <td>RandomForest</td>\n",
       "      <td>0.889458</td>\n",
       "      <td>0.862959</td>\n",
       "      <td>0.876008</td>\n",
       "      <td>0.873196</td>\n",
       "    </tr>\n",
       "    <tr>\n",
       "      <th>2</th>\n",
       "      <td>DecisionTreeClassifier</td>\n",
       "      <td>0.844181</td>\n",
       "      <td>0.850050</td>\n",
       "      <td>0.847105</td>\n",
       "      <td>0.840722</td>\n",
       "    </tr>\n",
       "    <tr>\n",
       "      <th>3</th>\n",
       "      <td>GradientBoosting</td>\n",
       "      <td>0.900407</td>\n",
       "      <td>0.879841</td>\n",
       "      <td>0.890005</td>\n",
       "      <td>0.887113</td>\n",
       "    </tr>\n",
       "    <tr>\n",
       "      <th>4</th>\n",
       "      <td>XGBClassifier</td>\n",
       "      <td>0.904713</td>\n",
       "      <td>0.876862</td>\n",
       "      <td>0.890570</td>\n",
       "      <td>0.888144</td>\n",
       "    </tr>\n",
       "  </tbody>\n",
       "</table>\n",
       "</div>"
      ],
      "text/plain": [
       "                    Model  Precision_score  Recall_score  F1_score  Accuracy\n",
       "0      LogisticRegression         0.903292      0.871897  0.887317  0.885052\n",
       "1            RandomForest         0.889458      0.862959  0.876008  0.873196\n",
       "2  DecisionTreeClassifier         0.844181      0.850050  0.847105  0.840722\n",
       "3        GradientBoosting         0.900407      0.879841  0.890005  0.887113\n",
       "4           XGBClassifier         0.904713      0.876862  0.890570  0.888144"
      ]
     },
     "execution_count": 439,
     "metadata": {},
     "output_type": "execute_result"
    }
   ],
   "source": [
    "models_report = pd.DataFrame(columns = ['Model', 'Precision_score', 'Recall_score','F1_score', 'Accuracy'])\n",
    "\n",
    "for clf, clf_name in zip(clfs.values(), clfs.keys()):\n",
    "    clf.fit(x_train,y_train)\n",
    "    y_pred = clf.predict(x_test)\n",
    "    y_score = clf.score(x_test,y_test)\n",
    "    \n",
    "    #print('Calculating {}'.format(clf_name))\n",
    "    t = pd.Series({ \n",
    "                     'Model': clf_name,\n",
    "                     'Precision_score': metrics.precision_score(y_test, y_pred),\n",
    "                     'Recall_score': metrics.recall_score(y_test, y_pred),\n",
    "                     'F1_score': metrics.f1_score(y_test, y_pred),\n",
    "                     'Accuracy': metrics.accuracy_score(y_test, y_pred)}\n",
    "                   )\n",
    "\n",
    "    models_report = models_report.append(t, ignore_index = True)\n",
    "\n",
    "models_report"
   ]
  },
  {
   "cell_type": "markdown",
   "metadata": {},
   "source": [
    "Of the 5 models the accuracy is highest in XGBclassifier and also the F1-score which is best hence this model seems to have the best performance of the 5. Hence we will explore and predict further based on the XGBClassifier model"
   ]
  },
  {
   "cell_type": "code",
   "execution_count": 440,
   "metadata": {},
   "outputs": [],
   "source": [
    "def gridsearch(model, params,x_train, x_test, y_train, y_test, kfold):\n",
    "    gs = GridSearchCV(model, params, scoring='accuracy', n_jobs=-1, cv=kfold)\n",
    "    gs.fit(x_train, y_train)\n",
    "    print ('Best params: ', gs.best_params_)\n",
    "    print ('Best AUC on Train set: ', gs.best_score_)\n",
    "    print ('Best AUC on Test set: ', gs.score(x_test, y_test))\n",
    "\n",
    "# Function to generate confusion matrix\n",
    "def confmat(pred, y_test):\n",
    "    conmat = np.array(confusion_matrix(y_test, pred, labels=[1,0]))\n",
    "    conf = pd.DataFrame(conmat, index=['Not Churn', 'Churn'],\n",
    "                             columns=['Predicted Not Churn', 'Predicted Churn'])\n",
    "    print (conf)\n",
    "\n",
    "# Function to plot roc curve\n",
    "def roc(prob, y_test):\n",
    "    y_score = prob\n",
    "    fpr = dict()\n",
    "    tpr = dict()\n",
    "    roc_auc=dict()\n",
    "    fpr[1], tpr[1], _ = roc_curve(y_test, y_score)\n",
    "    roc_auc[1] = auc(fpr[1], tpr[1])\n",
    "    plt.figure(figsize=[7,7])\n",
    "    plt.plot(fpr[1], tpr[1], label='Roc curve (area=%0.2f)' %roc_auc[1], linewidth=4)\n",
    "    plt.plot([1,0], [1,0], 'k--', linewidth=4)\n",
    "    plt.xlim([0.0, 1.0])\n",
    "    plt.ylim([0.0, 1.0])\n",
    "    plt.xlabel('False Positive rate', fontsize=15)\n",
    "    plt.ylabel('True Positive rate', fontsize=15)\n",
    "    plt.title('ROC curve for Creditor Churn', fontsize=16)\n",
    "    plt.legend(loc='Lower Right')\n",
    "    plt.show()\n",
    "    \n",
    "def model(md, x_train, y_train,x_test, y_test):\n",
    "    md.fit(x_train, y_train)\n",
    "    pred = md.predict(x_test)\n",
    "    prob = md.predict_proba(x_test)[:,1]\n",
    "    print (' ') \n",
    "    print ('Accuracy on Train set: ', md.score(x_train, y_train))\n",
    "    print ('Accuracy on Test set: ', md.score(x_test, y_test))\n",
    "    print (' ')\n",
    "    print(classification_report(y_test, pred))\n",
    "    print (' ')\n",
    "    print ('Confusion Matrix')\n",
    "    confmat(pred, y_test)\n",
    "    roc(prob, y_test)\n",
    "    return pred"
   ]
  },
  {
   "cell_type": "markdown",
   "metadata": {},
   "source": [
    "### Parameter tuning\n",
    "There are a few parameters that require tuning to improve the performance. I use GridSearchCV method to test model through a series of parameter values."
   ]
  },
  {
   "cell_type": "code",
   "execution_count": 441,
   "metadata": {},
   "outputs": [
    {
     "name": "stdout",
     "output_type": "stream",
     "text": [
      "Best params:  {'gamma': 0, 'learning_rate': 0.02, 'max_depth': 4, 'min_child_weight': 0, 'n_estimators': 200}\n",
      "Best AUC on Train set:  0.8844198895027624\n",
      "Best AUC on Test set:  0.8886597938144329\n"
     ]
    }
   ],
   "source": [
    "xgb = XGBClassifier()\n",
    "xgb_params = {'n_estimators':[200,300],'learning_rate':[0.05,0.02], 'max_depth':[4],'min_child_weight':[0],'gamma':[0]}\n",
    "gridsearch(xgb, xgb_params,x_train, x_test, y_train, y_test,5)"
   ]
  },
  {
   "cell_type": "code",
   "execution_count": 442,
   "metadata": {},
   "outputs": [
    {
     "name": "stdout",
     "output_type": "stream",
     "text": [
      " \n",
      "Accuracy on Train set:  0.8956906077348066\n",
      "Accuracy on Test set:  0.8886597938144329\n",
      " \n",
      "             precision    recall  f1-score   support\n",
      "\n",
      "          0       0.88      0.89      0.89       933\n",
      "          1       0.90      0.88      0.89      1007\n",
      "\n",
      "avg / total       0.89      0.89      0.89      1940\n",
      "\n",
      " \n",
      "Confusion Matrix\n",
      "           Predicted Not Churn  Predicted Churn\n",
      "Not Churn                  889              118\n",
      "Churn                       98              835\n"
     ]
    },
    {
     "data": {
      "image/png": "[encoded data removed]",
      "text/plain": [
       "<matplotlib.figure.Figure at 0x1a290be160>"
      ]
     },
     "metadata": {},
     "output_type": "display_data"
    }
   ],
   "source": [
    "xgb = XGBClassifier(\n",
    " learning_rate =0.02,\n",
    " n_estimators=200,\n",
    " max_depth=4,\n",
    " min_child_weight=0,\n",
    " gamma=0,\n",
    " subsample=0.8,\n",
    " colsample_bytree=0.8,\n",
    " objective= 'binary:logistic',\n",
    " nthread=1,\n",
    " scale_pos_weight=1,\n",
    " seed=27)\n",
    "model_xgb = model(xgb, x_train, y_train,x_test, y_test)"
   ]
  },
  {
   "cell_type": "code",
   "execution_count": 443,
   "metadata": {},
   "outputs": [],
   "source": [
    "## A psuedo step to get the values in variables\n",
    "y_pred_prob = xgb.predict_proba(x_test)\n",
    "y_pred_final= xgb.predict(x_test)"
   ]
  },
  {
   "cell_type": "markdown",
   "metadata": {},
   "source": [
    "As the XGB classifier is trained we would use it to predict the probability of churn for our new data. The new data is actually the activity of last 9 months starting from April 2016 to Dec 2016 of the 4268 creditors who were active in Q4 2016."
   ]
  },
  {
   "cell_type": "code",
   "execution_count": 444,
   "metadata": {},
   "outputs": [],
   "source": [
    "df_creditors_q4=df_creditors[df_creditors.month_x>=10]"
   ]
  },
  {
   "cell_type": "code",
   "execution_count": 445,
   "metadata": {},
   "outputs": [],
   "source": [
    "df_creditor_activity_new=pd.DataFrame()\n",
    "for creditor in df_creditors_q4.id.unique():\n",
    "    overall_activity=[4,5,6,7,8,9,10,11,12]\n",
    "    df_activity=df_payments[(df_payments.creditor_id==creditor)]\n",
    "    df_activity=df_activity[df_activity.month>=4]\n",
    "    amount_tran=np.mean(df_activity.amount_gbp)\n",
    "    num_tran=len(df_activity)\n",
    "    active_months=df_activity.month.unique()\n",
    "    no_actvity=Diff(overall_activity,active_months)\n",
    "    for i in no_actvity:\n",
    "        if i in overall_activity:\n",
    "            x=overall_activity.index(i)\n",
    "            overall_activity[x]=0\n",
    "    overall_activity = [1 if x>0 else x for x in overall_activity]\n",
    "    temp=({'creditor':creditor,'active_new':overall_activity,'amount_tran':amount_tran,'num_tran':num_tran})\n",
    "    df_creditor_activity_new=df_creditor_activity_new.append(temp,ignore_index=True)"
   ]
  },
  {
   "cell_type": "code",
   "execution_count": 446,
   "metadata": {},
   "outputs": [
    {
     "data": {
      "text/html": [
       "<div>\n",
       "<style scoped>\n",
       "    .dataframe tbody tr th:only-of-type {\n",
       "        vertical-align: middle;\n",
       "    }\n",
       "\n",
       "    .dataframe tbody tr th {\n",
       "        vertical-align: top;\n",
       "    }\n",
       "\n",
       "    .dataframe thead th {\n",
       "        text-align: right;\n",
       "    }\n",
       "</style>\n",
       "<table border=\"1\" class=\"dataframe\">\n",
       "  <thead>\n",
       "    <tr style=\"text-align: right;\">\n",
       "      <th></th>\n",
       "      <th>index</th>\n",
       "      <th>id</th>\n",
       "      <th>original_id</th>\n",
       "      <th>created_at</th>\n",
       "      <th>has_logo</th>\n",
       "      <th>country_code</th>\n",
       "      <th>merchant_type</th>\n",
       "      <th>refunds_enabled</th>\n",
       "      <th>creditor_id_x</th>\n",
       "      <th>month_x</th>\n",
       "      <th>creditor_id_y</th>\n",
       "      <th>month_y</th>\n",
       "      <th>active_new</th>\n",
       "      <th>amount_tran</th>\n",
       "      <th>creditor</th>\n",
       "      <th>num_tran</th>\n",
       "      <th>age</th>\n",
       "    </tr>\n",
       "  </thead>\n",
       "  <tbody>\n",
       "    <tr>\n",
       "      <th>0</th>\n",
       "      <td>0</td>\n",
       "      <td>e86212e4bc9634af</td>\n",
       "      <td>CR00001KBJ97DN</td>\n",
       "      <td>2012-10-10 17:28:18.000000</td>\n",
       "      <td>False</td>\n",
       "      <td>GB</td>\n",
       "      <td>business</td>\n",
       "      <td>False</td>\n",
       "      <td>e86212e4bc9634af</td>\n",
       "      <td>12.0</td>\n",
       "      <td>e86212e4bc9634af</td>\n",
       "      <td>1.0</td>\n",
       "      <td>[1, 1, 1, 1, 1, 1, 1, 1, 1]</td>\n",
       "      <td>55.077234</td>\n",
       "      <td>e86212e4bc9634af</td>\n",
       "      <td>47.0</td>\n",
       "      <td>1542</td>\n",
       "    </tr>\n",
       "    <tr>\n",
       "      <th>1</th>\n",
       "      <td>1</td>\n",
       "      <td>6d6068ca26ce1e22</td>\n",
       "      <td>CR00003KVHNF38</td>\n",
       "      <td>2015-08-10 11:15:35.850315</td>\n",
       "      <td>True</td>\n",
       "      <td>GB</td>\n",
       "      <td>business</td>\n",
       "      <td>False</td>\n",
       "      <td>6d6068ca26ce1e22</td>\n",
       "      <td>12.0</td>\n",
       "      <td>6d6068ca26ce1e22</td>\n",
       "      <td>1.0</td>\n",
       "      <td>[1, 1, 1, 1, 1, 1, 1, 1, 1]</td>\n",
       "      <td>62.215000</td>\n",
       "      <td>6d6068ca26ce1e22</td>\n",
       "      <td>48.0</td>\n",
       "      <td>508</td>\n",
       "    </tr>\n",
       "    <tr>\n",
       "      <th>2</th>\n",
       "      <td>2</td>\n",
       "      <td>f6410ee29a280622</td>\n",
       "      <td>CR00003SM66ZXX</td>\n",
       "      <td>2015-10-19 10:28:57.401961</td>\n",
       "      <td>True</td>\n",
       "      <td>GB</td>\n",
       "      <td>business</td>\n",
       "      <td>False</td>\n",
       "      <td>f6410ee29a280622</td>\n",
       "      <td>12.0</td>\n",
       "      <td>f6410ee29a280622</td>\n",
       "      <td>1.0</td>\n",
       "      <td>[1, 1, 1, 1, 1, 1, 1, 1, 1]</td>\n",
       "      <td>20.289600</td>\n",
       "      <td>f6410ee29a280622</td>\n",
       "      <td>50.0</td>\n",
       "      <td>438</td>\n",
       "    </tr>\n",
       "    <tr>\n",
       "      <th>3</th>\n",
       "      <td>3</td>\n",
       "      <td>71df1a1523e4cc85</td>\n",
       "      <td>CR00003SNDMQ4G</td>\n",
       "      <td>2015-10-19 14:19:25.106170</td>\n",
       "      <td>False</td>\n",
       "      <td>GB</td>\n",
       "      <td>individual</td>\n",
       "      <td>False</td>\n",
       "      <td>71df1a1523e4cc85</td>\n",
       "      <td>11.0</td>\n",
       "      <td>71df1a1523e4cc85</td>\n",
       "      <td>1.0</td>\n",
       "      <td>[1, 1, 1, 1, 1, 1, 1, 1, 0]</td>\n",
       "      <td>80.354500</td>\n",
       "      <td>71df1a1523e4cc85</td>\n",
       "      <td>40.0</td>\n",
       "      <td>438</td>\n",
       "    </tr>\n",
       "    <tr>\n",
       "      <th>4</th>\n",
       "      <td>4</td>\n",
       "      <td>e20d37e020a2684f</td>\n",
       "      <td>CR000047GZPHBZ</td>\n",
       "      <td>2016-03-19 13:44:53.916311</td>\n",
       "      <td>False</td>\n",
       "      <td>GB</td>\n",
       "      <td>business</td>\n",
       "      <td>True</td>\n",
       "      <td>e20d37e020a2684f</td>\n",
       "      <td>12.0</td>\n",
       "      <td>e20d37e020a2684f</td>\n",
       "      <td>8.0</td>\n",
       "      <td>[0, 0, 0, 0, 1, 1, 1, 1, 1]</td>\n",
       "      <td>416.002308</td>\n",
       "      <td>e20d37e020a2684f</td>\n",
       "      <td>26.0</td>\n",
       "      <td>286</td>\n",
       "    </tr>\n",
       "  </tbody>\n",
       "</table>\n",
       "</div>"
      ],
      "text/plain": [
       "   index                id     original_id                 created_at  has_logo country_code merchant_type  refunds_enabled     creditor_id_x  month_x     creditor_id_y  month_y                   active_new  amount_tran          creditor  num_tran   age\n",
       "0      0  e86212e4bc9634af  CR00001KBJ97DN 2012-10-10 17:28:18.000000     False           GB      business            False  e86212e4bc9634af     12.0  e86212e4bc9634af      1.0  [1, 1, 1, 1, 1, 1, 1, 1, 1]    55.077234  e86212e4bc9634af      47.0  1542\n",
       "1      1  6d6068ca26ce1e22  CR00003KVHNF38 2015-08-10 11:15:35.850315      True           GB      business            False  6d6068ca26ce1e22     12.0  6d6068ca26ce1e22      1.0  [1, 1, 1, 1, 1, 1, 1, 1, 1]    62.215000  6d6068ca26ce1e22      48.0   508\n",
       "2      2  f6410ee29a280622  CR00003SM66ZXX 2015-10-19 10:28:57.401961      True           GB      business            False  f6410ee29a280622     12.0  f6410ee29a280622      1.0  [1, 1, 1, 1, 1, 1, 1, 1, 1]    20.289600  f6410ee29a280622      50.0   438\n",
       "3      3  71df1a1523e4cc85  CR00003SNDMQ4G 2015-10-19 14:19:25.106170     False           GB    individual            False  71df1a1523e4cc85     11.0  71df1a1523e4cc85      1.0  [1, 1, 1, 1, 1, 1, 1, 1, 0]    80.354500  71df1a1523e4cc85      40.0   438\n",
       "4      4  e20d37e020a2684f  CR000047GZPHBZ 2016-03-19 13:44:53.916311     False           GB      business             True  e20d37e020a2684f     12.0  e20d37e020a2684f      8.0  [0, 0, 0, 0, 1, 1, 1, 1, 1]   416.002308  e20d37e020a2684f      26.0   286"
      ]
     },
     "execution_count": 446,
     "metadata": {},
     "output_type": "execute_result"
    }
   ],
   "source": [
    "df_creditors_new=pd.merge(df_creditors_q4,df_creditor_activity_new,how='left',left_on='id',right_on='creditor')\n",
    "df_creditors_new['age']=df_creditors_new.apply(lambda row:(datetime.datetime.strptime('2016-12-31 00:00:00','%Y-%m-%d %H:%M:%S')-row.created_at).days,axis=1)                                      \n",
    "\n",
    "df_creditors_new.head()"
   ]
  },
  {
   "cell_type": "code",
   "execution_count": 447,
   "metadata": {},
   "outputs": [],
   "source": [
    "categories=['merchant_type','has_logo']\n",
    "for category in categories:\n",
    "    data_out=calc_iv(df_model_data,category,target='label')\n",
    "    df_creditors_new=pd.merge(df_creditors_new,data_out,how='left',left_on=category,right_on='Value')"
   ]
  },
  {
   "cell_type": "code",
   "execution_count": 448,
   "metadata": {},
   "outputs": [
    {
     "name": "stdout",
     "output_type": "stream",
     "text": [
      "                   Total  Percent\n",
      "8                      0      0.0\n",
      "7                      0      0.0\n",
      "6                      0      0.0\n",
      "5                      0      0.0\n",
      "4                      0      0.0\n",
      "3                      0      0.0\n",
      "2                      0      0.0\n",
      "1                      0      0.0\n",
      "0                      0      0.0\n",
      "num_tran               0      0.0\n",
      "amount_tran            0      0.0\n",
      "IV_has_logo            0      0.0\n",
      "WoE_has_logo           0      0.0\n",
      "IV_merchant_type       0      0.0\n",
      "WoE_merchant_type      0      0.0\n"
     ]
    }
   ],
   "source": [
    "x_new=df_creditors_new[['active_new','WoE_merchant_type','IV_merchant_type','WoE_has_logo','IV_has_logo','amount_tran','num_tran']]\n",
    "z=x_new['active_new'].apply(pd.Series)\n",
    "x_new = x_new.merge(z, how='outer', left_index=True, right_index=True)\n",
    "x_new=x_new.drop(['active_new'],axis = 1)\n",
    "x_new[['amount_tran','num_tran']]=scaler.fit_transform(x_new[['amount_tran','num_tran']])\n",
    "for column in x_new.columns:\n",
    "    x_new[column].fillna(x_new[column].mode()[0], inplace=True)\n",
    "print(nulldata(x_new))"
   ]
  },
  {
   "cell_type": "code",
   "execution_count": 449,
   "metadata": {},
   "outputs": [],
   "source": [
    "final_pred_q4=xgb.predict(x_new)\n",
    "final_pred_prob_q4=xgb.predict_proba(x_new)[:,1]"
   ]
  },
  {
   "cell_type": "code",
   "execution_count": 450,
   "metadata": {},
   "outputs": [
    {
     "data": {
      "text/plain": [
       "(array([0, 1]), array([1611, 2657]))"
      ]
     },
     "execution_count": 450,
     "metadata": {},
     "output_type": "execute_result"
    }
   ],
   "source": [
    "np.unique(final_pred_q4, return_counts=True)"
   ]
  },
  {
   "cell_type": "code",
   "execution_count": 451,
   "metadata": {},
   "outputs": [],
   "source": [
    "df_creditors_new['pred_prob']=final_pred_prob_q4"
   ]
  },
  {
   "cell_type": "code",
   "execution_count": 452,
   "metadata": {},
   "outputs": [],
   "source": [
    "df_creditors_final=df_creditors_new[['id','pred_prob']]"
   ]
  },
  {
   "cell_type": "code",
   "execution_count": 453,
   "metadata": {},
   "outputs": [],
   "source": [
    "df_creditors_final.to_csv('df_creditors_final_2.csv')"
   ]
  },
  {
   "cell_type": "markdown",
   "metadata": {},
   "source": [
    "Since we obtain the probability of churn with lower value defining higher chance of churn we can bucket the users based on their probabilities of churn and then take actions accordingly"
   ]
  },
  {
   "cell_type": "code",
   "execution_count": 454,
   "metadata": {},
   "outputs": [
    {
     "data": {
      "text/plain": [
       "pred_prob\n",
       "(0.0, 0.25]     854\n",
       "(0.25, 0.5]     757\n",
       "(0.5, 0.75]     607\n",
       "(0.75, 1.0]    2050\n",
       "Name: id, dtype: int64"
      ]
     },
     "execution_count": 454,
     "metadata": {},
     "output_type": "execute_result"
    }
   ],
   "source": [
    "bins = [0, .25, .5, .75, 1]\n",
    "groups = df_creditors_final.groupby(pd.cut(df_creditors_final.pred_prob, bins))\n",
    "groups.id.count()"
   ]
  },
  {
   "cell_type": "markdown",
   "metadata": {},
   "source": [
    "As we can see that there are 1611 users who has high probability of churn but there is also 607 users who are borderline as they have less than 75% probability of being retained and hence the campaign should target them also"
   ]
  },
  {
   "cell_type": "code",
   "execution_count": 455,
   "metadata": {},
   "outputs": [],
   "source": [
    "## Saving the model files to be used later\n",
    "\n",
    "## Store the models and scalar values as pickles\n",
    "import pickle\n",
    "pkl_filename = \"pickle_predict_model.pkl\"  \n",
    "with open(pkl_filename, 'wb') as file:  \n",
    "    pickle.dump(xgb, file)\n",
    "\n",
    "pkl_scaler_file = \"pickle_scaler.pkl\"  \n",
    "with open(pkl_scaler_file, 'wb') as file:  \n",
    "    pickle.dump(scaler, file)\n",
    "\n",
    "pkl_data_frame=\"pickle_new_data.pkl\"\n",
    "with open(pkl_data_frame, 'wb') as file:  \n",
    "    pickle.dump(df_creditors_new, file)\n",
    "\n",
    "    \n",
    "    \n"
   ]
  },
  {
   "cell_type": "markdown",
   "metadata": {},
   "source": [
    "### The steps to import pickle and do the same prediction as done above with out running the entire code\n",
    "\n",
    "1. We import all the pickle files\n",
    "2. Do the basic data transformation\n",
    "3. Predict using the loaded pickle model\n",
    "4. Get the output same as shown above"
   ]
  },
  {
   "cell_type": "code",
   "execution_count": 456,
   "metadata": {},
   "outputs": [
    {
     "name": "stdout",
     "output_type": "stream",
     "text": [
      "                   Total  Percent\n",
      "8                      0      0.0\n",
      "7                      0      0.0\n",
      "6                      0      0.0\n",
      "5                      0      0.0\n",
      "4                      0      0.0\n",
      "3                      0      0.0\n",
      "2                      0      0.0\n",
      "1                      0      0.0\n",
      "0                      0      0.0\n",
      "num_tran               0      0.0\n",
      "amount_tran            0      0.0\n",
      "IV_has_logo            0      0.0\n",
      "WoE_has_logo           0      0.0\n",
      "IV_merchant_type       0      0.0\n",
      "WoE_merchant_type      0      0.0\n"
     ]
    }
   ],
   "source": [
    "## Initialize the libraries\n",
    "import psycopg2\n",
    "import pandas as pd\n",
    "import numpy as np\n",
    "import matplotlib\n",
    "import matplotlib.pyplot as plt\n",
    "import seaborn as sns\n",
    "from sklearn.cross_validation import train_test_split\n",
    "from sklearn.metrics import roc_curve, auc, confusion_matrix, classification_report,accuracy_score\n",
    "from sklearn.linear_model import LogisticRegression\n",
    "from sklearn.grid_search import GridSearchCV\n",
    "from sklearn.tree import DecisionTreeClassifier\n",
    "from sklearn.neighbors import KNeighborsClassifier\n",
    "from sklearn.naive_bayes import GaussianNB\n",
    "from sklearn.svm import SVC\n",
    "from sklearn.model_selection import KFold\n",
    "from sklearn.ensemble import GradientBoostingClassifier, RandomForestClassifier\n",
    "from sklearn import preprocessing, metrics\n",
    "from xgboost import XGBClassifier\n",
    "import warnings\n",
    "import pickle\n",
    "warnings.filterwarnings('ignore')\n",
    "%matplotlib inline \n",
    "pd.set_option('display.max_rows', 500)\n",
    "pd.set_option('display.max_columns', 500)\n",
    "pd.set_option('display.width', 1000)\n",
    "\n",
    "# Load the files\n",
    "\n",
    "pkl_filename = \"pickle_predict_model.pkl\"\n",
    "with open(pkl_filename, 'rb') as file:  \n",
    "    pickle_model = pickle.load(file)\n",
    "    \n",
    "pkl_scaler_file = \"pickle_scaler.pkl\"\n",
    "with open(pkl_scaler_file, 'rb') as file:  \n",
    "    pickle_scaler = pickle.load(file)\n",
    "    \n",
    "pkl_data_frame=\"pickle_new_data.pkl\"\n",
    "with open(pkl_data_frame, 'rb') as file:  \n",
    "    pickle_data = pickle.load(file)\n",
    "\n",
    "    \n",
    "x_new=pickle_data[['active_new','WoE_merchant_type','IV_merchant_type','WoE_has_logo','IV_has_logo','amount_tran','num_tran']]\n",
    "z=x_new['active_new'].apply(pd.Series)\n",
    "x_new = x_new.merge(z, how='outer', left_index=True, right_index=True)\n",
    "x_new=x_new.drop(['active_new'],axis = 1)\n",
    "x_new[['amount_tran','num_tran']]=pickle_scaler.fit_transform(x_new[['amount_tran','num_tran']])\n",
    "for column in x_new.columns:\n",
    "    x_new[column].fillna(x_new[column].mode()[0], inplace=True)\n",
    "print(nulldata(x_new))\n",
    "\n",
    "\n",
    "final_pred_q4=pickle_model.predict(x_new)\n",
    "final_pred_prob_q4=pickle_model.predict_proba(x_new)[:,1]\n",
    "np.unique(final_pred_q4, return_counts=True)\n",
    "\n",
    "pickle_data['pred_prob']=final_pred_prob_q4\n",
    "\n",
    "df_creditors_final=pickle_data[['id','pred_prob']]\n",
    "df_creditors_final.to_csv('df_creditors_final_output.csv')\n"
   ]
  },
  {
   "cell_type": "code",
   "execution_count": null,
   "metadata": {},
   "outputs": [],
   "source": [
    "URL = \"https://cdn-api.co-vin.in/api/v2/appointment/sessions/public/calendarByDistrict?district_id={}&date={}\""
   ]
  },
  {
   "cell_type": "code",
   "execution_count": null,
   "metadata": {},
   "outputs": [],
   "source": [
    "requests.get(URL.format(\"294\", \"04/05/2021\"))"
   ]
  },
  {
   "cell_type": "code",
   "execution_count": 3,
   "metadata": {},
   "outputs": [
    {
     "name": "stdout",
     "output_type": "stream",
     "text": [
      "Collecting pandas\n",
      "\u001b[33m  Cache entry deserialization failed, entry ignored\u001b[0m\n",
      "\u001b[33m  Cache entry deserialization failed, entry ignored\u001b[0m\n",
      "  Downloading https://files.pythonhosted.org/packages/c3/e2/00cacecafbab071c787019f00ad84ca3185952f6bb9bca9550ed83870d4d/pandas-1.1.5-cp36-cp36m-manylinux1_x86_64.whl (9.5MB)\n",
      "\u001b[K    100% |████████████████████████████████| 9.5MB 198kB/s eta 0:00:01    98% |███████████████████████████████▌| 9.4MB 23.4MB/s eta 0:00:01\n",
      "\u001b[?25hCollecting python-dateutil>=2.7.3 (from pandas)\n",
      "  Using cached https://files.pythonhosted.org/packages/d4/70/d60450c3dd48ef87586924207ae8907090de0b306af2bce5d134d78615cb/python_dateutil-2.8.1-py2.py3-none-any.whl\n",
      "Collecting pytz>=2017.2 (from pandas)\n",
      "\u001b[33m  Cache entry deserialization failed, entry ignored\u001b[0m\n",
      "\u001b[33m  Cache entry deserialization failed, entry ignored\u001b[0m\n",
      "  Downloading https://files.pythonhosted.org/packages/70/94/784178ca5dd892a98f113cdd923372024dc04b8d40abe77ca76b5fb90ca6/pytz-2021.1-py2.py3-none-any.whl (510kB)\n",
      "\u001b[K    100% |████████████████████████████████| 512kB 3.2MB/s eta 0:00:01\n",
      "\u001b[?25hCollecting numpy>=1.15.4 (from pandas)\n",
      "\u001b[33m  Cache entry deserialization failed, entry ignored\u001b[0m\n",
      "  Downloading https://files.pythonhosted.org/packages/45/b2/6c7545bb7a38754d63048c7696804a0d947328125d81bf12beaa692c3ae3/numpy-1.19.5-cp36-cp36m-manylinux1_x86_64.whl (13.4MB)\n",
      "\u001b[K    100% |████████████████████████████████| 13.4MB 138kB/s eta 0:00:01\n",
      "\u001b[?25hCollecting six>=1.5 (from python-dateutil>=2.7.3->pandas)\n",
      "  Using cached https://files.pythonhosted.org/packages/d9/5a/e7c31adbe875f2abbb91bd84cf2dc52d792b5a01506781dbcf25c91daf11/six-1.16.0-py2.py3-none-any.whl\n",
      "Installing collected packages: six, python-dateutil, pytz, numpy, pandas\n",
      "Successfully installed numpy-1.19.5 pandas-1.1.5 python-dateutil-2.8.1 pytz-2021.1 six-1.16.0\n"
     ]
    }
   ],
   "source": [
    "!pip3 install pandas"
   ]
  },
  {
   "cell_type": "code",
   "execution_count": null,
   "metadata": {},
   "outputs": [],
   "source": []
  }
 ],
 "metadata": {
  "kernelspec": {
   "display_name": "Python 3",
   "language": "python",
   "name": "python3"
  },
  "language_info": {
   "codemirror_mode": {
    "name": "ipython",
    "version": 3
   },
   "file_extension": ".py",
   "mimetype": "text/x-python",
   "name": "python",
   "nbconvert_exporter": "python",
   "pygments_lexer": "ipython3",
   "version": "3.6.9"
  }
 },
 "nbformat": 4,
 "nbformat_minor": 2
}
