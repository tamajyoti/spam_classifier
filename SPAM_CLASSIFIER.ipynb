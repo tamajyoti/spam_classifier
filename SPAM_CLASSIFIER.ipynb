{
 "cells": [
  {
   "cell_type": "code",
   "execution_count": 1,
   "metadata": {},
   "outputs": [],
   "source": [
    "import pandas as pd\n",
    "import numpy as np\n",
    "import seaborn as sns\n",
    "import matplotlib.pyplot as plt\n",
    "import re\n",
    "\n",
    "from sklearn.model_selection import train_test_split\n",
    "sns.set_style('darkgrid')"
   ]
  },
  {
   "cell_type": "code",
   "execution_count": 2,
   "metadata": {},
   "outputs": [],
   "source": [
    "df_spam = pd.read_csv(\"spam.csv\", encoding='latin-1')"
   ]
  },
  {
   "cell_type": "code",
   "execution_count": 3,
   "metadata": {},
   "outputs": [
    {
     "name": "stdout",
     "output_type": "stream",
     "text": [
      "            Total    Percent\n",
      "Unnamed: 4   5566  99.892319\n",
      "Unnamed: 3   5560  99.784637\n",
      "Unnamed: 2   5522  99.102656\n",
      "v1              0   0.000000\n",
      "v2              0   0.000000\n"
     ]
    }
   ],
   "source": [
    "## Some basic sanity checks for the 3 data frame \n",
    "def nulldata(dataframe):\n",
    "    total = dataframe.isnull().sum().sort_values(ascending = False)\n",
    "    percent = (dataframe.isnull().sum()/dataframe.isnull().count()*100).sort_values(ascending = False)\n",
    "    df_null=pd.concat([total, percent], axis=1, keys=['Total', 'Percent'])\n",
    "    return(df_null)\n",
    "\n",
    "print(nulldata(df_spam))"
   ]
  },
  {
   "cell_type": "markdown",
   "metadata": {},
   "source": [
    "We see that there are 3 columns with almost no data in them so removing them and renaming the two major columns in the dataset"
   ]
  },
  {
   "cell_type": "code",
   "execution_count": 4,
   "metadata": {},
   "outputs": [
    {
     "name": "stdout",
     "output_type": "stream",
     "text": [
      "                                             Unnamed: 2  \\\n",
      "95                                          PO Box 5249   \n",
      "281    the person is definitely special for u..... B...   \n",
      "444    HOWU DOIN? FOUNDURSELF A JOBYET SAUSAGE?LOVE ...   \n",
      "671    wanted to say hi. HI!!!\\\" Stop? Send STOP to ...   \n",
      "710     this wont even start........ Datz confidence..\"   \n",
      "899                                         PO Box 5249   \n",
      "1038                                                 GN   \n",
      "1127                                           .;-):-D\"   \n",
      "1266  just been in bedbut mite go 2 thepub l8tr if u...   \n",
      "1384   bt not his girlfrnd... G o o d n i g h t . . .@\"   \n",
      "\n",
      "                 Unnamed: 3                      Unnamed: 4  \n",
      "95     MK17 92H. 450Ppw 16\"                             NaN  \n",
      "281        why to miss them   just Keep-in-touch\\\" gdeve..\"  \n",
      "444                     NaN                             NaN  \n",
      "671                     NaN                             NaN  \n",
      "710                     NaN                             NaN  \n",
      "899    MK17 92H. 450Ppw 16\"                             NaN  \n",
      "1038                     GE                         GNT:-)\"  \n",
      "1127                    NaN                             NaN  \n",
      "1266                    NaN                             NaN  \n",
      "1384                    NaN                             NaN  \n",
      "Empty DataFrame\n",
      "Columns: [Unnamed: 2, Unnamed: 3, Unnamed: 4]\n",
      "Index: []\n"
     ]
    }
   ],
   "source": [
    "# Exploring the data in the 3 unnamed columns to check if there is any thing of importance\n",
    "print(df_spam[df_spam.columns.drop(['v1','v2'])].dropna(how='all').head(10))\n",
    "\n",
    "# Checking if any of these messages contains spam or not\n",
    "print(df_spam.loc[df_spam['v1'] == 'spam',df_spam.columns.drop(['v1','v2'])].dropna())"
   ]
  },
  {
   "cell_type": "markdown",
   "metadata": {},
   "source": [
    "None of the unnamed columns contains spam messages and 99% of them are empty hence we are dropping them from our analysis"
   ]
  },
  {
   "cell_type": "code",
   "execution_count": 5,
   "metadata": {},
   "outputs": [
    {
     "data": {
      "text/html": [
       "<div>\n",
       "<style scoped>\n",
       "    .dataframe tbody tr th:only-of-type {\n",
       "        vertical-align: middle;\n",
       "    }\n",
       "\n",
       "    .dataframe tbody tr th {\n",
       "        vertical-align: top;\n",
       "    }\n",
       "\n",
       "    .dataframe thead th {\n",
       "        text-align: right;\n",
       "    }\n",
       "</style>\n",
       "<table border=\"1\" class=\"dataframe\">\n",
       "  <thead>\n",
       "    <tr style=\"text-align: right;\">\n",
       "      <th></th>\n",
       "      <th>spam_label</th>\n",
       "      <th>message</th>\n",
       "    </tr>\n",
       "  </thead>\n",
       "  <tbody>\n",
       "    <tr>\n",
       "      <th>0</th>\n",
       "      <td>ham</td>\n",
       "      <td>Go until jurong point, crazy.. Available only ...</td>\n",
       "    </tr>\n",
       "    <tr>\n",
       "      <th>1</th>\n",
       "      <td>ham</td>\n",
       "      <td>Ok lar... Joking wif u oni...</td>\n",
       "    </tr>\n",
       "    <tr>\n",
       "      <th>2</th>\n",
       "      <td>spam</td>\n",
       "      <td>Free entry in 2 a wkly comp to win FA Cup fina...</td>\n",
       "    </tr>\n",
       "    <tr>\n",
       "      <th>3</th>\n",
       "      <td>ham</td>\n",
       "      <td>U dun say so early hor... U c already then say...</td>\n",
       "    </tr>\n",
       "    <tr>\n",
       "      <th>4</th>\n",
       "      <td>ham</td>\n",
       "      <td>Nah I don't think he goes to usf, he lives aro...</td>\n",
       "    </tr>\n",
       "  </tbody>\n",
       "</table>\n",
       "</div>"
      ],
      "text/plain": [
       "  spam_label                                            message\n",
       "0        ham  Go until jurong point, crazy.. Available only ...\n",
       "1        ham                      Ok lar... Joking wif u oni...\n",
       "2       spam  Free entry in 2 a wkly comp to win FA Cup fina...\n",
       "3        ham  U dun say so early hor... U c already then say...\n",
       "4        ham  Nah I don't think he goes to usf, he lives aro..."
      ]
     },
     "execution_count": 5,
     "metadata": {},
     "output_type": "execute_result"
    }
   ],
   "source": [
    "df_spam.drop([\"Unnamed: 2\", \"Unnamed: 3\", \"Unnamed: 4\"], axis=1, inplace=True)\n",
    "# renaming the columns\n",
    "df_spam.columns = [\"spam_label\",\"message\"]\n",
    "df_spam.head()\n"
   ]
  },
  {
   "cell_type": "code",
   "execution_count": 6,
   "metadata": {},
   "outputs": [
    {
     "name": "stdout",
     "output_type": "stream",
     "text": [
      "percentage of labels:               message\n",
      "spam_label           \n",
      "ham         86.593683\n",
      "spam        13.406317\n"
     ]
    },
    {
     "data": {
      "image/png": "[encoded data removed]",
      "text/plain": [
       "<Figure size 432x288 with 1 Axes>"
      ]
     },
     "metadata": {},
     "output_type": "display_data"
    }
   ],
   "source": [
    "sns.countplot(data=df_spam,x='spam_label')\n",
    "print(\"percentage of labels:\",f\"{100*df_spam.groupby('spam_label').count()/len(df_spam)}\")"
   ]
  },
  {
   "cell_type": "markdown",
   "metadata": {},
   "source": [
    "Now lets look at the distribution of message length to understand if theres is any underlying pattern in the spam messages"
   ]
  },
  {
   "cell_type": "code",
   "execution_count": 7,
   "metadata": {},
   "outputs": [],
   "source": [
    "df_spam[\"msg_len\"]=df_spam.apply(lambda row: len(row.message),axis=1)"
   ]
  },
  {
   "cell_type": "code",
   "execution_count": 8,
   "metadata": {},
   "outputs": [
    {
     "data": {
      "text/plain": [
       "Text(0.5, 0, 'Message Length  (in characters)')"
      ]
     },
     "execution_count": 8,
     "metadata": {},
     "output_type": "execute_result"
    },
    {
     "data": {
      "image/png": "[encoded data removed]",
      "text/plain": [
       "<Figure size 864x576 with 1 Axes>"
      ]
     },
     "metadata": {},
     "output_type": "display_data"
    }
   ],
   "source": [
    "fig,ax=plt.subplots(figsize=(12,8))\n",
    "check = 'ham'\n",
    "sns.histplot(df_spam[df_spam['spam_label']==check],x='msg_len',color='green',ax=ax,alpha=0.7)\n",
    "ymin, ymax = plt.gca().get_ylim()\n",
    "plt.vlines(x=df_spam.loc[df_spam['spam_label']==check,'msg_len'].median(),ymin=ymin,ymax=ymax,color='green',alpha=0.5,linestyles='dashed')\n",
    "check = 'spam'\n",
    "sns.histplot(df_spam[df_spam['spam_label']==check],x='msg_len',color='orange',ax=ax,alpha=0.9)\n",
    "plt.vlines(x=df_spam.loc[df_spam['spam_label']==check,'msg_len'].median(),ymin=ymin,ymax=ymax,color='orange',linestyles='dashed')\n",
    "plt.legend(['median ham lengths','median spam lengths'])\n",
    "plt.title('Distribution of message sizes')\n",
    "plt.ylabel('Count or Frequency')\n",
    "plt.xlabel('Message Length  (in characters)')"
   ]
  },
  {
   "cell_type": "markdown",
   "metadata": {},
   "source": [
    "The median of both the frequency distributions indicate that non spam messages are mostly short and spam messages are lengthy. Hence we can use the length of messages as a feature while training the model.\n",
    "\n",
    "However as the plan is to check how FLAIR works in the classification task we will try to stick to using flair embedding for our classfication task and compare it with a classical NLP based baseline"
   ]
  },
  {
   "cell_type": "markdown",
   "metadata": {},
   "source": [
    "### Baseline model"
   ]
  },
  {
   "cell_type": "code",
   "execution_count": 9,
   "metadata": {},
   "outputs": [],
   "source": [
    "# Importing libraries for NLP based feature engineering\n",
    "\n",
    "#importing functions that helps in feature engineering\n",
    "from nltk.tokenize import word_tokenize\n",
    "from nltk.corpus import stopwords\n",
    "from nltk.stem.porter import PorterStemmer\n",
    "import string\n",
    "\n",
    "\n",
    "from sklearn.pipeline import FeatureUnion \n",
    "#FeatureUnion is used to concat feaatures obtained using different transform functions\n",
    "from sklearn.preprocessing import FunctionTransformer\n",
    "#FunctionTransformer can create a transform function from any arbitrary or user defined function\n",
    "from scipy.sparse import csr_matrix\n",
    "from sklearn.feature_extraction.text import TfidfVectorizer\n",
    "from scipy.sparse import hstack"
   ]
  },
  {
   "cell_type": "code",
   "execution_count": 10,
   "metadata": {},
   "outputs": [],
   "source": [
    "#stop word removal\n",
    "remove_list = set(list(string.punctuation) + stopwords.words('english'))\n",
    "#defining a function that can tokenize the messages, remove unwanted words and punctuations\n",
    "porterstemmer = PorterStemmer()\n",
    "\n",
    "\n",
    "def get_clean_message(message):\n",
    "    cleaned_message = []\n",
    "    for word in word_tokenize(message.lower()):\n",
    "        word = re.sub('[^a-zA-Z]','',word)\n",
    "        if(word == ''):\n",
    "            continue\n",
    "        if(word not in remove_list):\n",
    "            cleaned_message.append(porterstemmer.stem(word))\n",
    "    return cleaned_message\n",
    "\n",
    "def get_length(df):\n",
    "    df = df.apply(len)\n",
    "    return csr_matrix(df.to_numpy().reshape(-1,1))\n"
   ]
  },
  {
   "cell_type": "code",
   "execution_count": 11,
   "metadata": {},
   "outputs": [],
   "source": [
    "feature_pipe = FeatureUnion([\n",
    "    ('tfidf',TfidfVectorizer(analyzer=get_clean_message))])"
   ]
  },
  {
   "cell_type": "code",
   "execution_count": 12,
   "metadata": {},
   "outputs": [
    {
     "name": "stdout",
     "output_type": "stream",
     "text": [
      "4457 1115\n"
     ]
    }
   ],
   "source": [
    "# Dividing the data set into train validation and test set\n",
    "\n",
    "df_spam['spam_flag'] = df_spam['spam_label'].map(lambda x: 0 if(x=='ham') else 1)\n",
    "\n",
    "# train is now 75% of the entire data set\n",
    "# the _junk suffix means that we drop that variable spam_labelcompletely\n",
    "x_train, x_test, y_train, y_test = train_test_split(df_spam[\"message\"], df_spam[\"spam_flag\"], test_size=0.20,random_state=11)\n",
    "\n",
    "\n",
    "print(len(x_train), len(x_test))"
   ]
  },
  {
   "cell_type": "code",
   "execution_count": 13,
   "metadata": {},
   "outputs": [],
   "source": [
    "tfidf_mat = feature_pipe.fit_transform(list(x_train))\n",
    "tfidf_mat_len = hstack(\n",
    "            (\n",
    "                tfidf_mat,\n",
    "                get_length(x_train),\n",
    "            )\n",
    "        ).tocsr()"
   ]
  },
  {
   "cell_type": "code",
   "execution_count": 14,
   "metadata": {},
   "outputs": [],
   "source": [
    "from sklearn.naive_bayes import MultinomialNB\n",
    "from sklearn.model_selection import GridSearchCV\n",
    "from sklearn.metrics import classification_report,confusion_matrix"
   ]
  },
  {
   "cell_type": "code",
   "execution_count": 15,
   "metadata": {},
   "outputs": [
    {
     "data": {
      "text/plain": [
       "GridSearchCV(cv=6, estimator=MultinomialNB(),\n",
       "             param_grid={'alpha': [0.001, 0.01, 0.1, 0.25, 0.3, 0.35, 0.5, 0.6,\n",
       "                                   0.7, 0.8, 0.9, 1, 2, 5]},\n",
       "             scoring='recall')"
      ]
     },
     "execution_count": 15,
     "metadata": {},
     "output_type": "execute_result"
    }
   ],
   "source": [
    "#define grid search\n",
    "params =  {'alpha':[0.001,0.01,0.1,0.25,0.3,0.35,0.5,0.6,0.7,0.8,0.9,1,2,5]}\n",
    "grid = GridSearchCV(MultinomialNB(),param_grid=params,cv=6,scoring='recall')\n",
    "grid.fit(tfidf_mat,y_train)\n",
    "\n"
   ]
  },
  {
   "cell_type": "code",
   "execution_count": 16,
   "metadata": {},
   "outputs": [],
   "source": [
    "test_mat = feature_pipe.transform(list(x_test))\n",
    "test_mat_len = hstack(\n",
    "            (\n",
    "                test_mat,\n",
    "                get_length(x_test),\n",
    "            )\n",
    "        ).tocsr()"
   ]
  },
  {
   "cell_type": "code",
   "execution_count": 17,
   "metadata": {},
   "outputs": [
    {
     "name": "stdout",
     "output_type": "stream",
     "text": [
      "Accuracy score is: 0.93\n",
      "Best parameter: {'alpha': 0.1}\n"
     ]
    }
   ],
   "source": [
    "#print accuracy score\n",
    "print(f'Accuracy score is: {grid.score(test_mat,y_test):.2f}')\n",
    "#Print the best parameter\n",
    "print('Best parameter:',grid.best_params_)"
   ]
  },
  {
   "cell_type": "code",
   "execution_count": 19,
   "metadata": {},
   "outputs": [
    {
     "name": "stdout",
     "output_type": "stream",
     "text": [
      "              precision    recall  f1-score   support\n",
      "\n",
      "           0       0.99      1.00      0.99       982\n",
      "           1       0.98      0.93      0.95       133\n",
      "\n",
      "    accuracy                           0.99      1115\n",
      "   macro avg       0.98      0.96      0.97      1115\n",
      "weighted avg       0.99      0.99      0.99      1115\n",
      "\n",
      "[[979   3]\n",
      " [  9 124]]\n"
     ]
    }
   ],
   "source": [
    "#classify test messages\n",
    "predictions = grid.predict(test_mat)\n",
    "#print classification report\n",
    "print(classification_report(y_test,predictions))\n",
    "\n",
    "print(confusion_matrix(y_test,predictions))\n"
   ]
  },
  {
   "cell_type": "code",
   "execution_count": null,
   "metadata": {},
   "outputs": [],
   "source": [
    "confusion_matrix(y_test,predictions)"
   ]
  },
  {
   "cell_type": "code",
   "execution_count": null,
   "metadata": {},
   "outputs": [],
   "source": [
    "# Importing the flair modules\n",
    "\n",
    "from flair.data import Corpus\n",
    "from flair.datasets import CSVClassificationCorpus\n",
    "from flair.embeddings import WordEmbeddings, FlairEmbeddings, DocumentLSTMEmbeddings\n",
    "from flair.models import TextClassifier\n",
    "from flair.trainers import ModelTrainer\n",
    "from pathlib import Path"
   ]
  },
  {
   "cell_type": "code",
   "execution_count": null,
   "metadata": {},
   "outputs": [],
   "source": [
    "import pandas as pd\n",
    "data = pd.read_csv(\"spam.csv\", encoding='latin-1').sample(frac=1).drop_duplicates()\n",
    "\n",
    "data = data[['v1', 'v2']].rename(columns={\"v1\":\"label\", \"v2\":\"text\"})\n",
    " \n",
    "data['label'] = '__label__' + data['label'].astype(str)\n",
    "\n",
    "data.iloc[0:int(len(data)*0.8)].to_csv('train.csv', sep='\\t', index = False, header = False)\n",
    "data.iloc[int(len(data)*0.8):int(len(data)*0.9)].to_csv('test.csv', sep='\\t', index = False, header = False)\n",
    "data.iloc[int(len(data)*0.9):].to_csv('dev.csv', sep='\\t', index = False, header = False);"
   ]
  },
  {
   "cell_type": "code",
   "execution_count": null,
   "metadata": {},
   "outputs": [],
   "source": [
    "from flair.data import Corpus\n",
    "from flair.datasets import ClassificationCorpus\n",
    "\n",
    "# this is the folder in which train, test and dev files reside\n",
    "data_folder = './'\n",
    "\n",
    "# load corpus containing training, test and dev data\n",
    "corpus: Corpus = ClassificationCorpus(data_folder,\n",
    "                                      test_file='test.csv',\n",
    "                                      dev_file='dev.csv',\n",
    "                                      train_file='train.csv')"
   ]
  },
  {
   "cell_type": "code",
   "execution_count": null,
   "metadata": {},
   "outputs": [],
   "source": [
    "word_embeddings = [WordEmbeddings('glove'), FlairEmbeddings('news-forward-fast'), FlairEmbeddings('news-backward-fast')]\n",
    "document_embeddings = DocumentLSTMEmbeddings(word_embeddings, hidden_size=512, reproject_words=True, reproject_words_dimension=256)\n",
    "classifier = TextClassifier(document_embeddings, label_dictionary=corpus.make_label_dictionary(), multi_label=False)\n",
    "trainer = ModelTrainer(classifier, corpus)\n"
   ]
  },
  {
   "cell_type": "code",
   "execution_count": null,
   "metadata": {},
   "outputs": [],
   "source": [
    "trainer.train('./',\n",
    "                  learning_rate=0.05,\n",
    "                  mini_batch_size=50,\n",
    "                  anneal_factor=0.5,\n",
    "                  patience=3,\n",
    "                  max_epochs=1,embeddings_storage_mode='none')\n"
   ]
  },
  {
   "cell_type": "code",
   "execution_count": null,
   "metadata": {},
   "outputs": [],
   "source": [
    "import csv\n",
    "with open('dev1.csv', newline='') as csvfile:\n",
    "    spamreader = csv.reader(csvfile, delimiter='\\t', quotechar='|')\n",
    "    for i,row in enumerate(spamreader):\n",
    "        pass"
   ]
  },
  {
   "cell_type": "code",
   "execution_count": null,
   "metadata": {},
   "outputs": [],
   "source": [
    "i"
   ]
  },
  {
   "cell_type": "markdown",
   "metadata": {},
   "source": [
    "By class:\n",
    "              precision    recall  f1-score   support\n",
    "\n",
    "         ham     0.9892    0.9935    0.9913       460\n",
    "        spam     0.9455    0.9123    0.9286        57\n",
    "\n",
    "macro avg     0.9673    0.9529    0.9599       517"
   ]
  },
  {
   "cell_type": "code",
   "execution_count": null,
   "metadata": {},
   "outputs": [],
   "source": [
    "macro avg       0.97      0.96      0.97      1393"
   ]
  },
  {
   "cell_type": "code",
   "execution_count": null,
   "metadata": {},
   "outputs": [],
   "source": [
    "df_spam.groupby(\"spam_label\").count()"
   ]
  },
  {
   "cell_type": "code",
   "execution_count": null,
   "metadata": {},
   "outputs": [],
   "source": [
    "print(\"percentage of labels:\",f\"{100*df_spam.groupby('spam_label').count()/len(df_spam)}\")\n",
    "\n",
    "print(\"count of labels:\",f\"{100*df_spam.groupby('spam_label').count()}\")"
   ]
  },
  {
   "cell_type": "code",
   "execution_count": null,
   "metadata": {},
   "outputs": [],
   "source": [
    "type(x_train)"
   ]
  },
  {
   "cell_type": "code",
   "execution_count": null,
   "metadata": {},
   "outputs": [],
   "source": [
    "tfidf_mat.shape"
   ]
  },
  {
   "cell_type": "code",
   "execution_count": null,
   "metadata": {},
   "outputs": [],
   "source": [
    "feature_pipe"
   ]
  },
  {
   "cell_type": "code",
   "execution_count": null,
   "metadata": {},
   "outputs": [],
   "source": [
    "def get_feature_pipe():\n",
    "    feature_pipe = FeatureUnion([\n",
    "    ('tfidf',TfidfVectorizer(analyzer=get_clean_message))])\n",
    "    tfidf_mat = feature_pipe.fit_transform(list(x_train))\n",
    "    \n",
    "    return tfidf_mat,feature_pipe"
   ]
  },
  {
   "cell_type": "code",
   "execution_count": null,
   "metadata": {},
   "outputs": [],
   "source": [
    "tfidf_mat,feature = get_feature_pipe()"
   ]
  },
  {
   "cell_type": "code",
   "execution_count": null,
   "metadata": {},
   "outputs": [],
   "source": [
    "feature.transform(list(x_test))"
   ]
  },
  {
   "cell_type": "code",
   "execution_count": null,
   "metadata": {},
   "outputs": [],
   "source": [
    "print(feature.transform([\"Thanks again for your reply today. When is ur visa coming in. And r u still buying the gucci and bags.\"]))"
   ]
  },
  {
   "cell_type": "code",
   "execution_count": null,
   "metadata": {},
   "outputs": [],
   "source": []
  },
  {
   "cell_type": "code",
   "execution_count": null,
   "metadata": {},
   "outputs": [],
   "source": [
    "train_split = 0.8\n",
    "train_split+0.1"
   ]
  },
  {
   "cell_type": "code",
   "execution_count": null,
   "metadata": {},
   "outputs": [],
   "source": [
    "corpus.obtain_statistics()"
   ]
  },
  {
   "cell_type": "code",
   "execution_count": null,
   "metadata": {},
   "outputs": [],
   "source": [
    "from flair.datasets import ClassificationDataset"
   ]
  },
  {
   "cell_type": "code",
   "execution_count": null,
   "metadata": {},
   "outputs": [],
   "source": [
    "train: FlairDataset = ClassificationDataset(\n",
    "            \"train.csv\",\n",
    "            label_type=\"class\",\n",
    "            tokenizer=tokenizer,\n",
    "            truncate_to_max_tokens=truncate_to_max_tokens,\n",
    "            truncate_to_max_chars=truncate_to_max_chars,\n",
    "            filter_if_longer_than=filter_if_longer_than,\n",
    "            memory_mode=memory_mode,\n",
    "            label_name_map=label_name_map,\n",
    "            skip_labels=skip_labels,\n",
    "            allow_examples_without_labels=allow_examples_without_labels,\n",
    "            encoding=encoding,\n",
    "        )"
   ]
  },
  {
   "cell_type": "code",
   "execution_count": null,
   "metadata": {},
   "outputs": [],
   "source": [
    "type(grid)"
   ]
  },
  {
   "cell_type": "code",
   "execution_count": null,
   "metadata": {},
   "outputs": [],
   "source": [
    "type(feature_pipe)"
   ]
  },
  {
   "cell_type": "code",
   "execution_count": null,
   "metadata": {},
   "outputs": [],
   "source": [
    "from flair.models import TextClassifier\n",
    "from flair.data import Sentence\n",
    "classifier = TextClassifier.load('./final-model.pt')\n",
    "sentence = Sentence('Hi. Yes mum, I will...')\n",
    "classifier.predict(sentence)"
   ]
  },
  {
   "cell_type": "code",
   "execution_count": null,
   "metadata": {},
   "outputs": [],
   "source": [
    "type(sentence.get_labels())"
   ]
  },
  {
   "cell_type": "code",
   "execution_count": null,
   "metadata": {},
   "outputs": [],
   "source": [
    "sentence.get_labels()[0].to_dict()"
   ]
  },
  {
   "cell_type": "code",
   "execution_count": null,
   "metadata": {},
   "outputs": [],
   "source": [
    "PATH = \"./\"\n",
    "import os\n",
    "import pickle\n",
    "import joblib"
   ]
  },
  {
   "cell_type": "code",
   "execution_count": null,
   "metadata": {},
   "outputs": [],
   "source": [
    "PATH = \"./\""
   ]
  },
  {
   "cell_type": "code",
   "execution_count": null,
   "metadata": {},
   "outputs": [],
   "source": [
    "pickle.dump(feature_pipe, open(os.path.join(PATH, f\"feature_vector.pickle\"), \"wb\"))\n",
    "joblib.dump(grid, os.path.join(PATH, f\"grid_model.pickle\"))"
   ]
  },
  {
   "cell_type": "code",
   "execution_count": null,
   "metadata": {},
   "outputs": [],
   "source": [
    "feature_pipe_a = pickle.load(open(os.path.join(PATH, f\"feature_vector.pickle\"), \"rb\"))\n",
    "grid_model_a = joblib.load(os.path.join(PATH, f\"grid_model.pickle\"))"
   ]
  },
  {
   "cell_type": "code",
   "execution_count": null,
   "metadata": {},
   "outputs": [],
   "source": [
    "os.path.join(PATH, f\"feature_vector.pickle\")"
   ]
  },
  {
   "cell_type": "code",
   "execution_count": null,
   "metadata": {},
   "outputs": [],
   "source": [
    "test_mat = feature_pipe_a.transform([x_test[4460]])\n",
    "test_mat_len = hstack(\n",
    "            (\n",
    "                test_mat,\n",
    "                get_length(pd.series(list(x_test[4460]))),\n",
    "            )\n",
    "        ).tocsr()"
   ]
  },
  {
   "cell_type": "code",
   "execution_count": null,
   "metadata": {},
   "outputs": [],
   "source": [
    "grid_model_a.predict(test_mat)"
   ]
  },
  {
   "cell_type": "code",
   "execution_count": null,
   "metadata": {},
   "outputs": [],
   "source": [
    "grid_model_a.predict(test_mat)"
   ]
  },
  {
   "cell_type": "code",
   "execution_count": null,
   "metadata": {},
   "outputs": [],
   "source": [
    "type(x_test)"
   ]
  },
  {
   "cell_type": "code",
   "execution_count": null,
   "metadata": {},
   "outputs": [],
   "source": [
    "grid_model_a.pre"
   ]
  },
  {
   "cell_type": "code",
   "execution_count": null,
   "metadata": {},
   "outputs": [],
   "source": [
    "sentences = pd.DataFrame(list(x_test[:3]),columns=[\"sentence\"])"
   ]
  },
  {
   "cell_type": "code",
   "execution_count": null,
   "metadata": {},
   "outputs": [],
   "source": [
    "sent_mat = feature_pipe_a.transform(sentences[\"sentence\"])\n",
    "sent_mat_len = hstack(\n",
    "            (\n",
    "                sent_mat,\n",
    "                get_length(sentences[\"sentence\"]),\n",
    "            )\n",
    "        ).tocsr()"
   ]
  },
  {
   "cell_type": "code",
   "execution_count": null,
   "metadata": {},
   "outputs": [],
   "source": [
    "grid_model_a.predict_log_proba(sent_mat)"
   ]
  },
  {
   "cell_type": "code",
   "execution_count": null,
   "metadata": {},
   "outputs": [],
   "source": [
    "grid_model_a.predict(sent_mat)"
   ]
  },
  {
   "cell_type": "code",
   "execution_count": null,
   "metadata": {},
   "outputs": [],
   "source": [
    "list(x_test[:3])"
   ]
  },
  {
   "cell_type": "code",
   "execution_count": null,
   "metadata": {},
   "outputs": [],
   "source": [
    "type(grid_model_a)"
   ]
  },
  {
   "cell_type": "code",
   "execution_count": null,
   "metadata": {},
   "outputs": [],
   "source": [
    "import  csv\n",
    "\n",
    "messages = list(x_test[:3])\n",
    "\n",
    "with open(\"new_messages.csv\",\"w\") as f:\n",
    "    wr = csv.writer(f,delimiter=\"\")\n",
    "    wr.writerow(messages)"
   ]
  },
  {
   "cell_type": "code",
   "execution_count": null,
   "metadata": {},
   "outputs": [],
   "source": [
    "pd.DataFrame(messages)"
   ]
  },
  {
   "cell_type": "code",
   "execution_count": null,
   "metadata": {},
   "outputs": [],
   "source": [
    "messages"
   ]
  },
  {
   "cell_type": "code",
   "execution_count": null,
   "metadata": {},
   "outputs": [],
   "source": []
  },
  {
   "cell_type": "code",
   "execution_count": null,
   "metadata": {},
   "outputs": [],
   "source": []
  }
 ],
 "metadata": {
  "kernelspec": {
   "display_name": "Python 3",
   "language": "python",
   "name": "python3"
  },
  "language_info": {
   "codemirror_mode": {
    "name": "ipython",
    "version": 3
   },
   "file_extension": ".py",
   "mimetype": "text/x-python",
   "name": "python",
   "nbconvert_exporter": "python",
   "pygments_lexer": "ipython3",
   "version": "3.6.9"
  }
 },
 "nbformat": 4,
 "nbformat_minor": 2
}
